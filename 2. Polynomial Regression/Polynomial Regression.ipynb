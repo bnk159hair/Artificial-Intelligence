{
 "cells": [
  {
   "cell_type": "code",
   "execution_count": 1,
   "id": "e5d51626",
   "metadata": {},
   "outputs": [
    {
     "data": {
      "text/html": [
       "<div>\n",
       "<style scoped>\n",
       "    .dataframe tbody tr th:only-of-type {\n",
       "        vertical-align: middle;\n",
       "    }\n",
       "\n",
       "    .dataframe tbody tr th {\n",
       "        vertical-align: top;\n",
       "    }\n",
       "\n",
       "    .dataframe thead th {\n",
       "        text-align: right;\n",
       "    }\n",
       "</style>\n",
       "<table border=\"1\" class=\"dataframe\">\n",
       "  <thead>\n",
       "    <tr style=\"text-align: right;\">\n",
       "      <th></th>\n",
       "      <th>Position</th>\n",
       "      <th>Level</th>\n",
       "      <th>Salary</th>\n",
       "    </tr>\n",
       "  </thead>\n",
       "  <tbody>\n",
       "    <tr>\n",
       "      <th>0</th>\n",
       "      <td>Business Analyst</td>\n",
       "      <td>1</td>\n",
       "      <td>45000</td>\n",
       "    </tr>\n",
       "    <tr>\n",
       "      <th>1</th>\n",
       "      <td>Junior Consultant</td>\n",
       "      <td>2</td>\n",
       "      <td>50000</td>\n",
       "    </tr>\n",
       "    <tr>\n",
       "      <th>2</th>\n",
       "      <td>Senior Consultant</td>\n",
       "      <td>3</td>\n",
       "      <td>60000</td>\n",
       "    </tr>\n",
       "    <tr>\n",
       "      <th>3</th>\n",
       "      <td>Manager</td>\n",
       "      <td>4</td>\n",
       "      <td>80000</td>\n",
       "    </tr>\n",
       "    <tr>\n",
       "      <th>4</th>\n",
       "      <td>Country Manager</td>\n",
       "      <td>5</td>\n",
       "      <td>110000</td>\n",
       "    </tr>\n",
       "  </tbody>\n",
       "</table>\n",
       "</div>"
      ],
      "text/plain": [
       "            Position  Level  Salary\n",
       "0   Business Analyst      1   45000\n",
       "1  Junior Consultant      2   50000\n",
       "2  Senior Consultant      3   60000\n",
       "3            Manager      4   80000\n",
       "4    Country Manager      5  110000"
      ]
     },
     "execution_count": 1,
     "metadata": {},
     "output_type": "execute_result"
    }
   ],
   "source": [
    "import pandas as pd\n",
    "import numpy as np\n",
    "df = pd.read_csv('position_salaries.csv')\n",
    "df.head()"
   ]
  },
  {
   "cell_type": "markdown",
   "id": "0180a3ba",
   "metadata": {},
   "source": [
    "위의 과정은 pandas, numpy 라이브러리를 추가하고, csv파일을 읽어와 df에 저장하는\n",
    "과정이다."
   ]
  },
  {
   "cell_type": "code",
   "execution_count": 2,
   "id": "144781ad",
   "metadata": {},
   "outputs": [
    {
     "data": {
      "text/html": [
       "<div>\n",
       "<style scoped>\n",
       "    .dataframe tbody tr th:only-of-type {\n",
       "        vertical-align: middle;\n",
       "    }\n",
       "\n",
       "    .dataframe tbody tr th {\n",
       "        vertical-align: top;\n",
       "    }\n",
       "\n",
       "    .dataframe thead th {\n",
       "        text-align: right;\n",
       "    }\n",
       "</style>\n",
       "<table border=\"1\" class=\"dataframe\">\n",
       "  <thead>\n",
       "    <tr style=\"text-align: right;\">\n",
       "      <th></th>\n",
       "      <th>00</th>\n",
       "      <th>Position</th>\n",
       "      <th>Level</th>\n",
       "      <th>Salary</th>\n",
       "    </tr>\n",
       "  </thead>\n",
       "  <tbody>\n",
       "    <tr>\n",
       "      <th>0</th>\n",
       "      <td>1</td>\n",
       "      <td>Business Analyst</td>\n",
       "      <td>1</td>\n",
       "      <td>45000</td>\n",
       "    </tr>\n",
       "    <tr>\n",
       "      <th>1</th>\n",
       "      <td>1</td>\n",
       "      <td>Junior Consultant</td>\n",
       "      <td>2</td>\n",
       "      <td>50000</td>\n",
       "    </tr>\n",
       "    <tr>\n",
       "      <th>2</th>\n",
       "      <td>1</td>\n",
       "      <td>Senior Consultant</td>\n",
       "      <td>3</td>\n",
       "      <td>60000</td>\n",
       "    </tr>\n",
       "    <tr>\n",
       "      <th>3</th>\n",
       "      <td>1</td>\n",
       "      <td>Manager</td>\n",
       "      <td>4</td>\n",
       "      <td>80000</td>\n",
       "    </tr>\n",
       "    <tr>\n",
       "      <th>4</th>\n",
       "      <td>1</td>\n",
       "      <td>Country Manager</td>\n",
       "      <td>5</td>\n",
       "      <td>110000</td>\n",
       "    </tr>\n",
       "  </tbody>\n",
       "</table>\n",
       "</div>"
      ],
      "text/plain": [
       "   00           Position  Level  Salary\n",
       "0   1   Business Analyst      1   45000\n",
       "1   1  Junior Consultant      2   50000\n",
       "2   1  Senior Consultant      3   60000\n",
       "3   1            Manager      4   80000\n",
       "4   1    Country Manager      5  110000"
      ]
     },
     "execution_count": 2,
     "metadata": {},
     "output_type": "execute_result"
    }
   ],
   "source": [
    "df = pd.concat([pd.Series(1, index=df.index, name='00'), df], axis=1)\n",
    "df.head()"
   ]
  },
  {
   "cell_type": "markdown",
   "id": "e65ca74e",
   "metadata": {},
   "source": [
    "concat: 서로 이어 붙이는 함수이다.\n",
    "https://yganalyst.github.io/data_handling/Pd_12/\n",
    "\n",
    "Series: pandas의 list와 같은 자료형이다. index도 지정할 수 있다는게 특징\n",
    "axis=1 -> '열'방향으로써 붙이겠다는 의미\n",
    "index = df.index -> 인덱스를 df의 인덱스와 같게 하겠다는 의미\n",
    "https://nittaku.tistory.com/110\n",
    "\n",
    "?? : 근데 왜 concat(pd, df)는 되는데 반대 순서인 concat(df, pd)는 안될까?\n",
    "\n"
   ]
  },
  {
   "cell_type": "code",
   "execution_count": 3,
   "id": "4cc30d9f",
   "metadata": {},
   "outputs": [],
   "source": [
    "df = df.drop(columns = 'Position')"
   ]
  },
  {
   "cell_type": "markdown",
   "id": "00e76ffa",
   "metadata": {},
   "source": [
    "df의 'Position' 열을 제거"
   ]
  },
  {
   "cell_type": "code",
   "execution_count": 4,
   "id": "dcaca9b7",
   "metadata": {},
   "outputs": [
    {
     "data": {
      "text/html": [
       "<div>\n",
       "<style scoped>\n",
       "    .dataframe tbody tr th:only-of-type {\n",
       "        vertical-align: middle;\n",
       "    }\n",
       "\n",
       "    .dataframe tbody tr th {\n",
       "        vertical-align: top;\n",
       "    }\n",
       "\n",
       "    .dataframe thead th {\n",
       "        text-align: right;\n",
       "    }\n",
       "</style>\n",
       "<table border=\"1\" class=\"dataframe\">\n",
       "  <thead>\n",
       "    <tr style=\"text-align: right;\">\n",
       "      <th></th>\n",
       "      <th>00</th>\n",
       "      <th>Level</th>\n",
       "    </tr>\n",
       "  </thead>\n",
       "  <tbody>\n",
       "    <tr>\n",
       "      <th>0</th>\n",
       "      <td>1</td>\n",
       "      <td>1</td>\n",
       "    </tr>\n",
       "    <tr>\n",
       "      <th>1</th>\n",
       "      <td>1</td>\n",
       "      <td>2</td>\n",
       "    </tr>\n",
       "    <tr>\n",
       "      <th>2</th>\n",
       "      <td>1</td>\n",
       "      <td>3</td>\n",
       "    </tr>\n",
       "    <tr>\n",
       "      <th>3</th>\n",
       "      <td>1</td>\n",
       "      <td>4</td>\n",
       "    </tr>\n",
       "    <tr>\n",
       "      <th>4</th>\n",
       "      <td>1</td>\n",
       "      <td>5</td>\n",
       "    </tr>\n",
       "  </tbody>\n",
       "</table>\n",
       "</div>"
      ],
      "text/plain": [
       "   00  Level\n",
       "0   1      1\n",
       "1   1      2\n",
       "2   1      3\n",
       "3   1      4\n",
       "4   1      5"
      ]
     },
     "execution_count": 4,
     "metadata": {},
     "output_type": "execute_result"
    }
   ],
   "source": [
    "y=df['Salary']\n",
    "X = df.drop(columns = 'Salary')\n",
    "X.head()\n"
   ]
  },
  {
   "cell_type": "markdown",
   "id": "33ee75de",
   "metadata": {},
   "source": [
    "y는 df의 'Salary' 열을 가짐\n",
    "X에서 'Salary' 열을 제거함"
   ]
  },
  {
   "cell_type": "code",
   "execution_count": 5,
   "id": "bd5edf4e",
   "metadata": {},
   "outputs": [
    {
     "data": {
      "text/html": [
       "<div>\n",
       "<style scoped>\n",
       "    .dataframe tbody tr th:only-of-type {\n",
       "        vertical-align: middle;\n",
       "    }\n",
       "\n",
       "    .dataframe tbody tr th {\n",
       "        vertical-align: top;\n",
       "    }\n",
       "\n",
       "    .dataframe thead th {\n",
       "        text-align: right;\n",
       "    }\n",
       "</style>\n",
       "<table border=\"1\" class=\"dataframe\">\n",
       "  <thead>\n",
       "    <tr style=\"text-align: right;\">\n",
       "      <th></th>\n",
       "      <th>00</th>\n",
       "      <th>Level</th>\n",
       "      <th>Level1</th>\n",
       "      <th>Level2</th>\n",
       "    </tr>\n",
       "  </thead>\n",
       "  <tbody>\n",
       "    <tr>\n",
       "      <th>0</th>\n",
       "      <td>1</td>\n",
       "      <td>1</td>\n",
       "      <td>1</td>\n",
       "      <td>1</td>\n",
       "    </tr>\n",
       "    <tr>\n",
       "      <th>1</th>\n",
       "      <td>1</td>\n",
       "      <td>2</td>\n",
       "      <td>4</td>\n",
       "      <td>8</td>\n",
       "    </tr>\n",
       "    <tr>\n",
       "      <th>2</th>\n",
       "      <td>1</td>\n",
       "      <td>3</td>\n",
       "      <td>9</td>\n",
       "      <td>27</td>\n",
       "    </tr>\n",
       "    <tr>\n",
       "      <th>3</th>\n",
       "      <td>1</td>\n",
       "      <td>4</td>\n",
       "      <td>16</td>\n",
       "      <td>64</td>\n",
       "    </tr>\n",
       "    <tr>\n",
       "      <th>4</th>\n",
       "      <td>1</td>\n",
       "      <td>5</td>\n",
       "      <td>25</td>\n",
       "      <td>125</td>\n",
       "    </tr>\n",
       "  </tbody>\n",
       "</table>\n",
       "</div>"
      ],
      "text/plain": [
       "   00  Level  Level1  Level2\n",
       "0   1      1       1       1\n",
       "1   1      2       4       8\n",
       "2   1      3       9      27\n",
       "3   1      4      16      64\n",
       "4   1      5      25     125"
      ]
     },
     "execution_count": 5,
     "metadata": {},
     "output_type": "execute_result"
    }
   ],
   "source": [
    "X['Level1'] = X['Level']**2\n",
    "X['Level2'] = X['Level']**3\n",
    "X.head()"
   ]
  },
  {
   "cell_type": "markdown",
   "id": "a71c2a65",
   "metadata": {},
   "source": [
    "지수 생성 부분"
   ]
  },
  {
   "cell_type": "code",
   "execution_count": 6,
   "id": "a4c2176b",
   "metadata": {},
   "outputs": [],
   "source": [
    "m = len(X)\n",
    "X = X/X.max()"
   ]
  },
  {
   "cell_type": "markdown",
   "id": "09721ca3",
   "metadata": {},
   "source": [
    "X.max()가 1000이었음 그래서 값들이 천으로 나뉘게 됨"
   ]
  },
  {
   "cell_type": "code",
   "execution_count": 7,
   "id": "1bbeab5e",
   "metadata": {},
   "outputs": [],
   "source": [
    "def hypothesis(X, theta):\n",
    "    y1 = theta*X\n",
    "    return np.sum(y1, axis=1)"
   ]
  },
  {
   "cell_type": "markdown",
   "id": "dbfd9e53",
   "metadata": {},
   "source": [
    "가설함수를 정의한 것 X와 theta를 이용하여 y를 예측한다."
   ]
  },
  {
   "cell_type": "code",
   "execution_count": 8,
   "id": "d6479e5d",
   "metadata": {},
   "outputs": [],
   "source": [
    "def cost(X, y, theta):\n",
    "    y1 = hypothesis(X, theta)\n",
    "    return sum(np.sqrt((y1-y)**2))/(2*m)"
   ]
  },
  {
   "attachments": {},
   "cell_type": "markdown",
   "id": "85d16697",
   "metadata": {},
   "source": [
    "비용함수를 정의한 것이다."
   ]
  },
  {
   "cell_type": "code",
   "execution_count": 9,
   "id": "f9cfe982",
   "metadata": {},
   "outputs": [],
   "source": [
    "def gradientDescent(X, y, theta, alpha, epoch):\n",
    "    J=[]\n",
    "    k=0\n",
    "    while k<epoch:\n",
    "        y1 = hypothesis(X, theta)\n",
    "        for c in range(0, len(X.columns)):\n",
    "            theta[c] = theta[c] - alpha*sum((y1-y)*X.iloc[:,c])/m\n",
    "        j = cost(X, y, theta)\n",
    "        J.append(j)\n",
    "        k+=1\n",
    "    return J, theta\n",
    "            "
   ]
  },
  {
   "cell_type": "markdown",
   "id": "7f515733",
   "metadata": {},
   "source": [
    "iloc[:,c] 는 c번째 열을 의미한다.\n"
   ]
  },
  {
   "cell_type": "code",
   "execution_count": 10,
   "id": "e2c814bc",
   "metadata": {},
   "outputs": [],
   "source": [
    "theta = np.array([0.0]*len(X.columns))\n",
    "J, theta = gradientDescent(X, y, theta, 0.05, 700)"
   ]
  },
  {
   "cell_type": "markdown",
   "id": "d96d1bad",
   "metadata": {},
   "source": [
    "theta를 0으로 초기화 (랜덤한 값으로 초기화할 수도 있음)\n",
    "alpha = 0.05, theta 값을 700회 반복"
   ]
  },
  {
   "cell_type": "code",
   "execution_count": 11,
   "id": "998db04b",
   "metadata": {},
   "outputs": [],
   "source": [
    "y_hat = hypothesis(X, theta)"
   ]
  },
  {
   "cell_type": "markdown",
   "id": "afd45878",
   "metadata": {},
   "source": [
    "최종 theta 값(final theta valus)과 비용을 잘 얻었으니\n",
    "최종 theta에 따른 salary 예측을 구하는 것이다."
   ]
  },
  {
   "cell_type": "code",
   "execution_count": 12,
   "id": "b1730c86",
   "metadata": {},
   "outputs": [
    {
     "data": {
      "image/png": "[encoded data removed]",
      "text/plain": [
       "<Figure size 432x288 with 1 Axes>"
      ]
     },
     "metadata": {
      "needs_background": "light"
     },
     "output_type": "display_data"
    }
   ],
   "source": [
    "%matplotlib inline\n",
    "import matplotlib.pyplot as plt\n",
    "plt.figure()\n",
    "plt.scatter(x=X['Level'], y=y)\n",
    "plt.scatter(x=X['Level'], y=y_hat)\n",
    "plt.show()"
   ]
  },
  {
   "cell_type": "markdown",
   "id": "54031e6c",
   "metadata": {},
   "source": [
    "위의 결과값이 기존 salary와 우리가 예측하는 salary 값을 level에 따라 출력한 것이다. 예측값이 실제 결과의 추세와 완전히 같지는 않지만 상당히 유사함을 알 수 있다.\n",
    "\n",
    "Linear regression은 오직 직선만을 반환한다. 하지만 polynomial regression은 다음과 같이 곡선 모양으로 반환할 수 있다."
   ]
  },
  {
   "cell_type": "code",
   "execution_count": 14,
   "id": "5b9f4865",
   "metadata": {},
   "outputs": [
    {
     "data": {
      "image/png": "[encoded data removed]",
      "text/plain": [
       "<Figure size 432x288 with 1 Axes>"
      ]
     },
     "metadata": {
      "needs_background": "light"
     },
     "output_type": "display_data"
    }
   ],
   "source": [
    "plt.figure()\n",
    "plt.scatter(x=list(range(0,700)), y=J)\n",
    "plt.show()"
   ]
  },
  {
   "cell_type": "markdown",
   "id": "d5f4b8d7",
   "metadata": {},
   "source": [
    "다음은 각각 반복에 따른 gradient descent function의 값의 변화를 나타낸 것이다.\n",
    "값이 초기에는 급격하게 떨어지다가 후반부에는 완만하게 떨어진다.\n",
    "좋은 알고리즘을 배우는 기계는 비용이 수렴까지 꾸준히 떨어져야만 한다."
   ]
  },
  {
   "cell_type": "code",
   "execution_count": null,
   "id": "4a3676a1",
   "metadata": {},
   "outputs": [],
   "source": []
  }
 ],
 "metadata": {
  "kernelspec": {
   "display_name": "Python 3",
   "language": "python",
   "name": "python3"
  },
  "language_info": {
   "codemirror_mode": {
    "name": "ipython",
    "version": 3
   },
   "file_extension": ".py",
   "mimetype": "text/x-python",
   "name": "python",
   "nbconvert_exporter": "python",
   "pygments_lexer": "ipython3",
   "version": "3.8.8"
  }
 },
 "nbformat": 4,
 "nbformat_minor": 5
}
