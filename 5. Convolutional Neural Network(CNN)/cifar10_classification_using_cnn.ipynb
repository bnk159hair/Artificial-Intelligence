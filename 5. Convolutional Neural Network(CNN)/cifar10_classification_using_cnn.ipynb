{
 "cells": [
  {
   "cell_type": "markdown",
   "id": "dd504157",
   "metadata": {
    "id": "dd504157"
   },
   "source": [
    "# CIFAR-10 Convolutional Neural Networks(CNN) 예제"
   ]
  },
  {
   "cell_type": "code",
   "execution_count": 1,
   "id": "00bafa98",
   "metadata": {
    "executionInfo": {
     "elapsed": 3022,
     "status": "ok",
     "timestamp": 1630117027046,
     "user": {
      "displayName": "하영김",
      "photoUrl": "",
      "userId": "09764993410001173712"
     },
     "user_tz": -540
    },
    "id": "00bafa98"
   },
   "outputs": [],
   "source": [
    "import tensorflow as tf\n",
    "import numpy as np\n",
    "physical_devices = tf.config.list_physical_devices('GPU')\n",
    "tf.config.experimental.set_memory_growth(physical_devices[0], enable=True)"
   ]
  },
  {
   "cell_type": "code",
   "execution_count": 2,
   "id": "81e1b763",
   "metadata": {
    "colab": {
     "base_uri": "https://localhost:8080/"
    },
    "executionInfo": {
     "elapsed": 468,
     "status": "ok",
     "timestamp": 1630117032863,
     "user": {
      "displayName": "하영김",
      "photoUrl": "",
      "userId": "09764993410001173712"
     },
     "user_tz": -540
    },
    "id": "81e1b763",
    "outputId": "a795489a-0b4e-4447-fcf1-6a81b56b073c"
   },
   "outputs": [
    {
     "data": {
      "text/plain": [
       "[name: \"/device:CPU:0\"\n",
       " device_type: \"CPU\"\n",
       " memory_limit: 268435456\n",
       " locality {\n",
       " }\n",
       " incarnation: 14129121494791361015,\n",
       " name: \"/device:GPU:0\"\n",
       " device_type: \"GPU\"\n",
       " memory_limit: 3046532711\n",
       " locality {\n",
       "   bus_id: 1\n",
       "   links {\n",
       "   }\n",
       " }\n",
       " incarnation: 8218558874300750820\n",
       " physical_device_desc: \"device: 0, name: NVIDIA GeForce GTX 1650, pci bus id: 0000:02:00.0, compute capability: 7.5\"]"
      ]
     },
     "execution_count": 2,
     "metadata": {},
     "output_type": "execute_result"
    }
   ],
   "source": [
    "from tensorflow.python.client import device_lib\n",
    "device_lib.list_local_devices()"
   ]
  },
  {
   "cell_type": "code",
   "execution_count": 3,
   "id": "60656afa",
   "metadata": {
    "colab": {
     "base_uri": "https://localhost:8080/"
    },
    "executionInfo": {
     "elapsed": 12031,
     "status": "ok",
     "timestamp": 1630117044891,
     "user": {
      "displayName": "하영김",
      "photoUrl": "",
      "userId": "09764993410001173712"
     },
     "user_tz": -540
    },
    "id": "60656afa",
    "outputId": "b7fb80d6-6a62-48f5-f36b-80fd31590eb3"
   },
   "outputs": [],
   "source": [
    "(x_train, y_train), (x_test, y_test) = tf.keras.datasets.cifar10.load_data()"
   ]
  },
  {
   "cell_type": "markdown",
   "id": "310b7750",
   "metadata": {
    "id": "310b7750"
   },
   "source": [
    "CIFAR-10 데이터를 다운로드 하고 데이터를 불러온다."
   ]
  },
  {
   "cell_type": "code",
   "execution_count": 4,
   "id": "54b42dcb",
   "metadata": {
    "executionInfo": {
     "elapsed": 388,
     "status": "ok",
     "timestamp": 1630117045268,
     "user": {
      "displayName": "하영김",
      "photoUrl": "",
      "userId": "09764993410001173712"
     },
     "user_tz": -540
    },
    "id": "54b42dcb"
   },
   "outputs": [],
   "source": [
    "x_train, x_test = x_train.astype('float32'), x_test.astype('float32')"
   ]
  },
  {
   "cell_type": "markdown",
   "id": "2c1260c8",
   "metadata": {
    "id": "2c1260c8"
   },
   "source": [
    "이미지들을 float32 데이터 타입으로 변경한다."
   ]
  },
  {
   "cell_type": "code",
   "execution_count": 5,
   "id": "f6c5fc0b",
   "metadata": {
    "executionInfo": {
     "elapsed": 484,
     "status": "ok",
     "timestamp": 1630117045735,
     "user": {
      "displayName": "하영김",
      "photoUrl": "",
      "userId": "09764993410001173712"
     },
     "user_tz": -540
    },
    "id": "f6c5fc0b"
   },
   "outputs": [],
   "source": [
    "x_train, x_test = x_train / 255., x_test/255."
   ]
  },
  {
   "cell_type": "markdown",
   "id": "01dd979e",
   "metadata": {
    "id": "01dd979e"
   },
   "source": [
    "[0, 255] 사이의 값을 [0, 1] 사이의 값으로 Normalize 한다."
   ]
  },
  {
   "cell_type": "code",
   "execution_count": 6,
   "id": "56d588cc",
   "metadata": {
    "executionInfo": {
     "elapsed": 5,
     "status": "ok",
     "timestamp": 1630117045735,
     "user": {
      "displayName": "하영김",
      "photoUrl": "",
      "userId": "09764993410001173712"
     },
     "user_tz": -540
    },
    "id": "56d588cc"
   },
   "outputs": [],
   "source": [
    "y_train_one_hot = tf.squeeze(tf.one_hot(y_train, 10), axis=1)\n",
    "y_test_one_hot = tf.squeeze(tf.one_hot(y_test, 10), axis=1)"
   ]
  },
  {
   "cell_type": "markdown",
   "id": "1624affe",
   "metadata": {
    "id": "1624affe"
   },
   "source": [
    "scalar 형태의 레이블(0~9)를 One-hot Encoding 형태로 변환한다."
   ]
  },
  {
   "cell_type": "code",
   "execution_count": 7,
   "id": "cf3df250",
   "metadata": {
    "executionInfo": {
     "elapsed": 2952,
     "status": "ok",
     "timestamp": 1630117048684,
     "user": {
      "displayName": "하영김",
      "photoUrl": "",
      "userId": "09764993410001173712"
     },
     "user_tz": -540
    },
    "id": "cf3df250"
   },
   "outputs": [],
   "source": [
    "train_data = tf.data.Dataset.from_tensor_slices((x_train, y_train_one_hot))\n",
    "train_data = train_data.repeat().shuffle(50000).batch(128)\n",
    "train_data_iter = iter(train_data)\n",
    "\n",
    "test_data = tf.data.Dataset.from_tensor_slices((x_test, y_test_one_hot))\n",
    "test_data = test_data.batch(1000)\n",
    "test_data_iter = iter(test_data)"
   ]
  },
  {
   "cell_type": "markdown",
   "id": "6f70f885",
   "metadata": {
    "id": "6f70f885"
   },
   "source": [
    "tf.data API를 이용해서 데이터를 섞고 batch 형태로 가져온다."
   ]
  },
  {
   "cell_type": "markdown",
   "id": "223739cb",
   "metadata": {
    "id": "223739cb"
   },
   "source": [
    "#### 아래부터 CNN 모델을 정의하겠다."
   ]
  },
  {
   "cell_type": "code",
   "execution_count": 8,
   "id": "d51b1365",
   "metadata": {
    "executionInfo": {
     "elapsed": 13,
     "status": "ok",
     "timestamp": 1630117048685,
     "user": {
      "displayName": "하영김",
      "photoUrl": "",
      "userId": "09764993410001173712"
     },
     "user_tz": -540
    },
    "id": "d51b1365"
   },
   "outputs": [],
   "source": [
    "class CNN(object):\n",
    "    # CNN 모델을 위한 tf.Variable들을 정의한다.\n",
    "    def __init__(self):\n",
    "        # 첫번째 convolutional layer - 하나의 RGB 이미지를 64개의 특징틀(feature)으로 맵핑(mapping)한다.\n",
    "        self.W_conv1 = tf.Variable(tf.random.truncated_normal(shape = [5, 5, 3, 64], stddev=5e-2))\n",
    "        self.b_conv1 = tf.Variable(tf.constant(0.1, shape = [64]))\n",
    "       \n",
    "        # 두번재 convolutional layer - 64개의 특징들(feature)을 64개의 특징들(feature)로 맵핑(mapping)한다.\n",
    "        self.W_conv2 = tf.Variable(tf.random.truncated_normal(shape = [5, 5, 64, 64], stddev=5e-2))\n",
    "        self.b_conv2 = tf.Variable(tf.constant(0.1, shape = [64]))\n",
    "        \n",
    "        # 세번째 convolutional layer\n",
    "        self.W_conv3 = tf.Variable(tf.random.truncated_normal(shape = [3, 3, 64, 128], stddev=5e-2))\n",
    "        self.b_conv3 = tf.Variable(tf.constant(0.1, shape = [128]))\n",
    "        \n",
    "        # 네번째 convolutional layer\n",
    "        self.W_conv4 = tf.Variable(tf.random.truncated_normal(shape = [3, 3, 128, 128], stddev=5e-2))\n",
    "        self.b_conv4 = tf.Variable(tf.constant(0.1, shape = [128]))\n",
    "        \n",
    "        # 다섯번째 convolutional layer\n",
    "        self.W_conv5 = tf.Variable(tf.random.truncated_normal(shape = [3, 3, 128, 128], stddev=5e-2))\n",
    "        self.b_conv5 = tf.Variable(tf.constant(0.1, shape = [128]))\n",
    "        \n",
    "        # Fully Connected Layer 1 - 2 번의 downsampling 이후에, 우리의 32x32 이미지는 8x8x128 특징맵(feature map)이 된다.\n",
    "        # 이를 384개의 특징들로 맵핑(mapping)한다.\n",
    "        self.W_fc1 = tf.Variable(tf.random.truncated_normal(shape=[8*8*128, 384], stddev=5e-2))\n",
    "        self.b_fc1 = tf.Variable(tf.constant(0.1, shape = [384]))\n",
    "        \n",
    "        # Fully Connected Layer 2 - 384개의 특징들(feature)을 10개의 클래스-airplane\n",
    "        # automobile, bird... -로 맵핑(mapping)한다.\n",
    "        self.W_fc2 = tf.Variable(tf.random.truncated_normal(shape=[384, 10], stddev=5e-2))\n",
    "        self.b_fc2 = tf.Variable(tf.constant(0.1, shape = [10]))\n",
    "    \n",
    "    def __call__(self, x, rate):\n",
    "        # 입력 이미지\n",
    "        x_image = x\n",
    "        \n",
    "        h_conv1 = tf.nn.relu(tf.nn.conv2d(x_image, self.W_conv1, strides=[1, 1, 1, 1], padding='SAME')+self.b_conv1)\n",
    "        h_pool1 = tf.nn.max_pool(h_conv1, ksize=[1, 3, 3, 1], strides=[1, 2, 2, 1], padding='SAME')\n",
    "        h_conv2 = tf.nn.relu(tf.nn.conv2d(h_pool1, self.W_conv2, strides=[1, 1, 1, 1], padding='SAME')+self.b_conv2)\n",
    "        h_pool2 = tf.nn.max_pool(h_conv2, ksize=[1, 3, 3, 1], strides=[1, 2, 2, 1], padding='SAME')\n",
    "        h_conv3 = tf.nn.relu(tf.nn.conv2d(h_pool2, self.W_conv3, strides=[1, 1, 1, 1], padding='SAME')+self.b_conv3)\n",
    "        h_conv4 = tf.nn.relu(tf.nn.conv2d(h_conv3, self.W_conv4, strides=[1, 1, 1, 1], padding='SAME')+self.b_conv4)\n",
    "        h_conv5 = tf.nn.relu(tf.nn.conv2d(h_conv4, self.W_conv5, strides=[1, 1, 1, 1], padding='SAME')+self.b_conv5)\n",
    "        h_conv5_flat = tf.reshape(h_conv5, [-1, 8*8*128])\n",
    "        h_fc1 = tf.nn.relu(tf.matmul(h_conv5_flat, self.W_fc1) + self.b_fc1)\n",
    "        # Dropout - 모델의 복잡도를 컨트롤한다. 특징들의 co-adaptation을 방지한다.\n",
    "        h_fc1_drop = tf.nn.dropout(h_fc1, rate)\n",
    "        logits = tf.matmul(h_fc1_drop, self.W_fc2) + self.b_fc2\n",
    "        y_pred = tf.nn.softmax(logits)\n",
    "        \n",
    "        return y_pred, logits"
   ]
  },
  {
   "cell_type": "markdown",
   "id": "7e9a5036",
   "metadata": {
    "id": "7e9a5036"
   },
   "source": [
    "cross-entropy 손실 함수를 정의한다."
   ]
  },
  {
   "cell_type": "code",
   "execution_count": 9,
   "id": "063218ca",
   "metadata": {
    "executionInfo": {
     "elapsed": 12,
     "status": "ok",
     "timestamp": 1630117048685,
     "user": {
      "displayName": "하영김",
      "photoUrl": "",
      "userId": "09764993410001173712"
     },
     "user_tz": -540
    },
    "id": "063218ca"
   },
   "outputs": [],
   "source": [
    "@tf.function\n",
    "def cross_entropy_loss(logits, y):\n",
    "    return tf.reduce_mean(tf.nn.softmax_cross_entropy_with_logits(logits=logits, labels=y))"
   ]
  },
  {
   "cell_type": "markdown",
   "id": "62a3bd1a",
   "metadata": {
    "id": "62a3bd1a"
   },
   "source": [
    "최적화를 위한 RMSprop 옵티마이저를 정의한다."
   ]
  },
  {
   "cell_type": "code",
   "execution_count": 10,
   "id": "1961b2ae",
   "metadata": {
    "executionInfo": {
     "elapsed": 12,
     "status": "ok",
     "timestamp": 1630117048686,
     "user": {
      "displayName": "하영김",
      "photoUrl": "",
      "userId": "09764993410001173712"
     },
     "user_tz": -540
    },
    "id": "1961b2ae"
   },
   "outputs": [],
   "source": [
    "optimizer = tf.optimizers.RMSprop(1e-3)"
   ]
  },
  {
   "cell_type": "markdown",
   "id": "266852c5",
   "metadata": {
    "id": "266852c5"
   },
   "source": [
    "최적화를 위한 function을 정의한다."
   ]
  },
  {
   "cell_type": "code",
   "execution_count": 11,
   "id": "6d2e324b",
   "metadata": {
    "executionInfo": {
     "elapsed": 11,
     "status": "ok",
     "timestamp": 1630117048686,
     "user": {
      "displayName": "하영김",
      "photoUrl": "",
      "userId": "09764993410001173712"
     },
     "user_tz": -540
    },
    "id": "6d2e324b"
   },
   "outputs": [],
   "source": [
    "@tf.function\n",
    "def train_step(model, x, y, rate):\n",
    "    with tf.GradientTape() as tape:\n",
    "        y_pred, logits = model(x, rate)\n",
    "        loss = cross_entropy_loss(logits, y)\n",
    "    gradients = tape.gradient(loss, vars(model).values())\n",
    "    optimizer.apply_gradients(zip(gradients, vars(model).values()))"
   ]
  },
  {
   "cell_type": "markdown",
   "id": "a3c4de09",
   "metadata": {
    "id": "a3c4de09"
   },
   "source": [
    "모델의 정확도를 출력하는 함수를 정의한다."
   ]
  },
  {
   "cell_type": "code",
   "execution_count": 12,
   "id": "5800a83d",
   "metadata": {
    "executionInfo": {
     "elapsed": 12,
     "status": "ok",
     "timestamp": 1630117048687,
     "user": {
      "displayName": "하영김",
      "photoUrl": "",
      "userId": "09764993410001173712"
     },
     "user_tz": -540
    },
    "id": "5800a83d"
   },
   "outputs": [],
   "source": [
    "@tf.function\n",
    "def compute_accuracy(y_pred, y):\n",
    "    correct_prediction = tf.equal(tf.argmax(y_pred, 1), tf.argmax(y, 1))\n",
    "    accuracy = tf.reduce_mean(tf.cast(correct_prediction, tf.float32))\n",
    "    \n",
    "    return accuracy"
   ]
  },
  {
   "cell_type": "markdown",
   "id": "0bb82c40",
   "metadata": {
    "id": "0bb82c40"
   },
   "source": [
    "Convolutional Neural Networks(CNN) 모델을 선언한다."
   ]
  },
  {
   "cell_type": "code",
   "execution_count": 13,
   "id": "a35b6107",
   "metadata": {
    "executionInfo": {
     "elapsed": 499,
     "status": "ok",
     "timestamp": 1630117049175,
     "user": {
      "displayName": "하영김",
      "photoUrl": "",
      "userId": "09764993410001173712"
     },
     "user_tz": -540
    },
    "id": "a35b6107"
   },
   "outputs": [],
   "source": [
    "CNN_model = CNN()"
   ]
  },
  {
   "cell_type": "markdown",
   "id": "2d8c4efe",
   "metadata": {
    "id": "2d8c4efe"
   },
   "source": [
    "10000 Step만큼 최적화를 수행한다."
   ]
  },
  {
   "cell_type": "code",
   "execution_count": 14,
   "id": "fc0fdc06",
   "metadata": {
    "colab": {
     "base_uri": "https://localhost:8080/"
    },
    "executionInfo": {
     "elapsed": 332433,
     "status": "ok",
     "timestamp": 1630117381605,
     "user": {
      "displayName": "하영김",
      "photoUrl": "",
      "userId": "09764993410001173712"
     },
     "user_tz": -540
    },
    "id": "fc0fdc06",
    "outputId": "fb0bb2a3-265b-4bb8-9e64-79533da81400"
   },
   "outputs": [
    {
     "name": "stdout",
     "output_type": "stream",
     "text": [
      "반복(Epoch): 0, 트레이닝 데이터 정확도: 0.062500, 손실 함수(loss): 2.741308\n"
     ]
    },
    {
     "ename": "InternalError",
     "evalue": " dnn PoolBackward launch failed\n\t [[node gradient_tape/MaxPool2d_1/MaxPoolGrad (defined at <ipython-input-11-2273d99f45ca>:6) ]] [Op:__inference_train_step_1178]\n\nErrors may have originated from an input operation.\nInput Source operations connected to node gradient_tape/MaxPool2d_1/MaxPoolGrad:\n Relu_1 (defined at <ipython-input-8-0885aab8347a>:40)\t\n MaxPool2d_1 (defined at <ipython-input-8-0885aab8347a>:41)\n\nFunction call stack:\ntrain_step\n",
     "output_type": "error",
     "traceback": [
      "\u001b[1;31m---------------------------------------------------------------------------\u001b[0m",
      "\u001b[1;31mInternalError\u001b[0m                             Traceback (most recent call last)",
      "\u001b[1;32m<ipython-input-14-c723f7fd3ae6>\u001b[0m in \u001b[0;36m<module>\u001b[1;34m\u001b[0m\n\u001b[0;32m      9\u001b[0m         \u001b[0mprint\u001b[0m\u001b[1;33m(\u001b[0m\u001b[1;34m\"반복(Epoch): %d, 트레이닝 데이터 정확도: %f, 손실 함수(loss): %f\"\u001b[0m \u001b[1;33m%\u001b[0m \u001b[1;33m(\u001b[0m\u001b[0mi\u001b[0m\u001b[1;33m,\u001b[0m \u001b[0mtrain_accuracy\u001b[0m\u001b[1;33m,\u001b[0m \u001b[0mloss_print\u001b[0m\u001b[1;33m)\u001b[0m\u001b[1;33m)\u001b[0m\u001b[1;33m\u001b[0m\u001b[1;33m\u001b[0m\u001b[0m\n\u001b[0;32m     10\u001b[0m     \u001b[1;31m# 20% 확률의 Dropout을 이용해서 학습을 진행한다.\u001b[0m\u001b[1;33m\u001b[0m\u001b[1;33m\u001b[0m\u001b[1;33m\u001b[0m\u001b[0m\n\u001b[1;32m---> 11\u001b[1;33m     \u001b[0mtrain_step\u001b[0m\u001b[1;33m(\u001b[0m\u001b[0mCNN_model\u001b[0m\u001b[1;33m,\u001b[0m \u001b[0mbatch_x\u001b[0m\u001b[1;33m,\u001b[0m \u001b[0mbatch_y\u001b[0m\u001b[1;33m,\u001b[0m \u001b[1;36m0.2\u001b[0m\u001b[1;33m)\u001b[0m\u001b[1;33m\u001b[0m\u001b[1;33m\u001b[0m\u001b[0m\n\u001b[0m",
      "\u001b[1;32m~\\anaconda3\\lib\\site-packages\\tensorflow\\python\\eager\\def_function.py\u001b[0m in \u001b[0;36m__call__\u001b[1;34m(self, *args, **kwds)\u001b[0m\n\u001b[0;32m    826\u001b[0m     \u001b[0mtracing_count\u001b[0m \u001b[1;33m=\u001b[0m \u001b[0mself\u001b[0m\u001b[1;33m.\u001b[0m\u001b[0mexperimental_get_tracing_count\u001b[0m\u001b[1;33m(\u001b[0m\u001b[1;33m)\u001b[0m\u001b[1;33m\u001b[0m\u001b[1;33m\u001b[0m\u001b[0m\n\u001b[0;32m    827\u001b[0m     \u001b[1;32mwith\u001b[0m \u001b[0mtrace\u001b[0m\u001b[1;33m.\u001b[0m\u001b[0mTrace\u001b[0m\u001b[1;33m(\u001b[0m\u001b[0mself\u001b[0m\u001b[1;33m.\u001b[0m\u001b[0m_name\u001b[0m\u001b[1;33m)\u001b[0m \u001b[1;32mas\u001b[0m \u001b[0mtm\u001b[0m\u001b[1;33m:\u001b[0m\u001b[1;33m\u001b[0m\u001b[1;33m\u001b[0m\u001b[0m\n\u001b[1;32m--> 828\u001b[1;33m       \u001b[0mresult\u001b[0m \u001b[1;33m=\u001b[0m \u001b[0mself\u001b[0m\u001b[1;33m.\u001b[0m\u001b[0m_call\u001b[0m\u001b[1;33m(\u001b[0m\u001b[1;33m*\u001b[0m\u001b[0margs\u001b[0m\u001b[1;33m,\u001b[0m \u001b[1;33m**\u001b[0m\u001b[0mkwds\u001b[0m\u001b[1;33m)\u001b[0m\u001b[1;33m\u001b[0m\u001b[1;33m\u001b[0m\u001b[0m\n\u001b[0m\u001b[0;32m    829\u001b[0m       \u001b[0mcompiler\u001b[0m \u001b[1;33m=\u001b[0m \u001b[1;34m\"xla\"\u001b[0m \u001b[1;32mif\u001b[0m \u001b[0mself\u001b[0m\u001b[1;33m.\u001b[0m\u001b[0m_experimental_compile\u001b[0m \u001b[1;32melse\u001b[0m \u001b[1;34m\"nonXla\"\u001b[0m\u001b[1;33m\u001b[0m\u001b[1;33m\u001b[0m\u001b[0m\n\u001b[0;32m    830\u001b[0m       \u001b[0mnew_tracing_count\u001b[0m \u001b[1;33m=\u001b[0m \u001b[0mself\u001b[0m\u001b[1;33m.\u001b[0m\u001b[0mexperimental_get_tracing_count\u001b[0m\u001b[1;33m(\u001b[0m\u001b[1;33m)\u001b[0m\u001b[1;33m\u001b[0m\u001b[1;33m\u001b[0m\u001b[0m\n",
      "\u001b[1;32m~\\anaconda3\\lib\\site-packages\\tensorflow\\python\\eager\\def_function.py\u001b[0m in \u001b[0;36m_call\u001b[1;34m(self, *args, **kwds)\u001b[0m\n\u001b[0;32m    886\u001b[0m         \u001b[1;31m# Lifting succeeded, so variables are initialized and we can run the\u001b[0m\u001b[1;33m\u001b[0m\u001b[1;33m\u001b[0m\u001b[1;33m\u001b[0m\u001b[0m\n\u001b[0;32m    887\u001b[0m         \u001b[1;31m# stateless function.\u001b[0m\u001b[1;33m\u001b[0m\u001b[1;33m\u001b[0m\u001b[1;33m\u001b[0m\u001b[0m\n\u001b[1;32m--> 888\u001b[1;33m         \u001b[1;32mreturn\u001b[0m \u001b[0mself\u001b[0m\u001b[1;33m.\u001b[0m\u001b[0m_stateless_fn\u001b[0m\u001b[1;33m(\u001b[0m\u001b[1;33m*\u001b[0m\u001b[0margs\u001b[0m\u001b[1;33m,\u001b[0m \u001b[1;33m**\u001b[0m\u001b[0mkwds\u001b[0m\u001b[1;33m)\u001b[0m\u001b[1;33m\u001b[0m\u001b[1;33m\u001b[0m\u001b[0m\n\u001b[0m\u001b[0;32m    889\u001b[0m     \u001b[1;32melse\u001b[0m\u001b[1;33m:\u001b[0m\u001b[1;33m\u001b[0m\u001b[1;33m\u001b[0m\u001b[0m\n\u001b[0;32m    890\u001b[0m       \u001b[0m_\u001b[0m\u001b[1;33m,\u001b[0m \u001b[0m_\u001b[0m\u001b[1;33m,\u001b[0m \u001b[0m_\u001b[0m\u001b[1;33m,\u001b[0m \u001b[0mfiltered_flat_args\u001b[0m \u001b[1;33m=\u001b[0m\u001b[0;31m \u001b[0m\u001b[0;31m\\\u001b[0m\u001b[1;33m\u001b[0m\u001b[1;33m\u001b[0m\u001b[0m\n",
      "\u001b[1;32m~\\anaconda3\\lib\\site-packages\\tensorflow\\python\\eager\\function.py\u001b[0m in \u001b[0;36m__call__\u001b[1;34m(self, *args, **kwargs)\u001b[0m\n\u001b[0;32m   2940\u001b[0m       (graph_function,\n\u001b[0;32m   2941\u001b[0m        filtered_flat_args) = self._maybe_define_function(args, kwargs)\n\u001b[1;32m-> 2942\u001b[1;33m     return graph_function._call_flat(\n\u001b[0m\u001b[0;32m   2943\u001b[0m         filtered_flat_args, captured_inputs=graph_function.captured_inputs)  # pylint: disable=protected-access\n\u001b[0;32m   2944\u001b[0m \u001b[1;33m\u001b[0m\u001b[0m\n",
      "\u001b[1;32m~\\anaconda3\\lib\\site-packages\\tensorflow\\python\\eager\\function.py\u001b[0m in \u001b[0;36m_call_flat\u001b[1;34m(self, args, captured_inputs, cancellation_manager)\u001b[0m\n\u001b[0;32m   1916\u001b[0m         and executing_eagerly):\n\u001b[0;32m   1917\u001b[0m       \u001b[1;31m# No tape is watching; skip to running the function.\u001b[0m\u001b[1;33m\u001b[0m\u001b[1;33m\u001b[0m\u001b[1;33m\u001b[0m\u001b[0m\n\u001b[1;32m-> 1918\u001b[1;33m       return self._build_call_outputs(self._inference_function.call(\n\u001b[0m\u001b[0;32m   1919\u001b[0m           ctx, args, cancellation_manager=cancellation_manager))\n\u001b[0;32m   1920\u001b[0m     forward_backward = self._select_forward_and_backward_functions(\n",
      "\u001b[1;32m~\\anaconda3\\lib\\site-packages\\tensorflow\\python\\eager\\function.py\u001b[0m in \u001b[0;36mcall\u001b[1;34m(self, ctx, args, cancellation_manager)\u001b[0m\n\u001b[0;32m    553\u001b[0m       \u001b[1;32mwith\u001b[0m \u001b[0m_InterpolateFunctionError\u001b[0m\u001b[1;33m(\u001b[0m\u001b[0mself\u001b[0m\u001b[1;33m)\u001b[0m\u001b[1;33m:\u001b[0m\u001b[1;33m\u001b[0m\u001b[1;33m\u001b[0m\u001b[0m\n\u001b[0;32m    554\u001b[0m         \u001b[1;32mif\u001b[0m \u001b[0mcancellation_manager\u001b[0m \u001b[1;32mis\u001b[0m \u001b[1;32mNone\u001b[0m\u001b[1;33m:\u001b[0m\u001b[1;33m\u001b[0m\u001b[1;33m\u001b[0m\u001b[0m\n\u001b[1;32m--> 555\u001b[1;33m           outputs = execute.execute(\n\u001b[0m\u001b[0;32m    556\u001b[0m               \u001b[0mstr\u001b[0m\u001b[1;33m(\u001b[0m\u001b[0mself\u001b[0m\u001b[1;33m.\u001b[0m\u001b[0msignature\u001b[0m\u001b[1;33m.\u001b[0m\u001b[0mname\u001b[0m\u001b[1;33m)\u001b[0m\u001b[1;33m,\u001b[0m\u001b[1;33m\u001b[0m\u001b[1;33m\u001b[0m\u001b[0m\n\u001b[0;32m    557\u001b[0m               \u001b[0mnum_outputs\u001b[0m\u001b[1;33m=\u001b[0m\u001b[0mself\u001b[0m\u001b[1;33m.\u001b[0m\u001b[0m_num_outputs\u001b[0m\u001b[1;33m,\u001b[0m\u001b[1;33m\u001b[0m\u001b[1;33m\u001b[0m\u001b[0m\n",
      "\u001b[1;32m~\\anaconda3\\lib\\site-packages\\tensorflow\\python\\eager\\execute.py\u001b[0m in \u001b[0;36mquick_execute\u001b[1;34m(op_name, num_outputs, inputs, attrs, ctx, name)\u001b[0m\n\u001b[0;32m     57\u001b[0m   \u001b[1;32mtry\u001b[0m\u001b[1;33m:\u001b[0m\u001b[1;33m\u001b[0m\u001b[1;33m\u001b[0m\u001b[0m\n\u001b[0;32m     58\u001b[0m     \u001b[0mctx\u001b[0m\u001b[1;33m.\u001b[0m\u001b[0mensure_initialized\u001b[0m\u001b[1;33m(\u001b[0m\u001b[1;33m)\u001b[0m\u001b[1;33m\u001b[0m\u001b[1;33m\u001b[0m\u001b[0m\n\u001b[1;32m---> 59\u001b[1;33m     tensors = pywrap_tfe.TFE_Py_Execute(ctx._handle, device_name, op_name,\n\u001b[0m\u001b[0;32m     60\u001b[0m                                         inputs, attrs, num_outputs)\n\u001b[0;32m     61\u001b[0m   \u001b[1;32mexcept\u001b[0m \u001b[0mcore\u001b[0m\u001b[1;33m.\u001b[0m\u001b[0m_NotOkStatusException\u001b[0m \u001b[1;32mas\u001b[0m \u001b[0me\u001b[0m\u001b[1;33m:\u001b[0m\u001b[1;33m\u001b[0m\u001b[1;33m\u001b[0m\u001b[0m\n",
      "\u001b[1;31mInternalError\u001b[0m:  dnn PoolBackward launch failed\n\t [[node gradient_tape/MaxPool2d_1/MaxPoolGrad (defined at <ipython-input-11-2273d99f45ca>:6) ]] [Op:__inference_train_step_1178]\n\nErrors may have originated from an input operation.\nInput Source operations connected to node gradient_tape/MaxPool2d_1/MaxPoolGrad:\n Relu_1 (defined at <ipython-input-8-0885aab8347a>:40)\t\n MaxPool2d_1 (defined at <ipython-input-8-0885aab8347a>:41)\n\nFunction call stack:\ntrain_step\n"
     ]
    }
   ],
   "source": [
    "for i in range(10000):\n",
    "    batch_x, batch_y = next(train_data_iter)\n",
    "    \n",
    "    # 100 Step마다 training 데이터셋에 대한 정확도와 loss를 출력한다.\n",
    "    if i% 100 == 0:\n",
    "        train_accuracy = compute_accuracy(CNN_model(batch_x, 0.0)[0], batch_y)\n",
    "        loss_print = cross_entropy_loss(CNN_model(batch_x, 0.0)[1], batch_y)\n",
    "        \n",
    "        print(\"반복(Epoch): %d, 트레이닝 데이터 정확도: %f, 손실 함수(loss): %f\" % (i, train_accuracy, loss_print))\n",
    "    # 20% 확률의 Dropout을 이용해서 학습을 진행한다.\n",
    "    train_step(CNN_model, batch_x, batch_y, 0.2)\n"
   ]
  },
  {
   "cell_type": "markdown",
   "id": "1dbcec96",
   "metadata": {
    "id": "1dbcec96"
   },
   "source": [
    "학습이 끝나면 테스트 데이터(10000개)에 대한 정확도를 출력한다."
   ]
  },
  {
   "cell_type": "code",
   "execution_count": 15,
   "id": "84d39f09",
   "metadata": {
    "colab": {
     "base_uri": "https://localhost:8080/"
    },
    "executionInfo": {
     "elapsed": 1668,
     "status": "ok",
     "timestamp": 1630117383259,
     "user": {
      "displayName": "하영김",
      "photoUrl": "",
      "userId": "09764993410001173712"
     },
     "user_tz": -540
    },
    "id": "84d39f09",
    "outputId": "0ee158d9-6c0d-42e3-9ff5-10da775b5da1"
   },
   "outputs": [
    {
     "name": "stdout",
     "output_type": "stream",
     "text": [
      "테스트 데이터 정확도: 0.631700\n"
     ]
    }
   ],
   "source": [
    "test_accuracy = 0.0\n",
    "for i in range(10):\n",
    "    test_batch_x, test_batch_y = next(test_data_iter)\n",
    "    test_accuracy = test_accuracy + compute_accuracy(CNN_model(test_batch_x, 0.0)[0], test_batch_y).numpy()\n",
    "test_accuracy = test_accuracy /10\n",
    "print(\"테스트 데이터 정확도: %f\" % test_accuracy)"
   ]
  }
 ],
 "metadata": {
  "accelerator": "GPU",
  "colab": {
   "collapsed_sections": [],
   "name": "cifar10_classification_using_cnn.ipynb",
   "provenance": []
  },
  "kernelspec": {
   "display_name": "Python 3",
   "language": "python",
   "name": "python3"
  },
  "language_info": {
   "codemirror_mode": {
    "name": "ipython",
    "version": 3
   },
   "file_extension": ".py",
   "mimetype": "text/x-python",
   "name": "python",
   "nbconvert_exporter": "python",
   "pygments_lexer": "ipython3",
   "version": "3.8.11"
  }
 },
 "nbformat": 4,
 "nbformat_minor": 5
}
