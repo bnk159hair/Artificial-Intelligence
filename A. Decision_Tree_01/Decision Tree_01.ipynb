{
 "cells": [
  {
   "cell_type": "markdown",
   "id": "da13db6e-cb77-4cbc-ae10-9be091e912d4",
   "metadata": {},
   "source": [
    "# 의사결정 트리 파이썬 코드 실습\n",
    "## (1) 패키지 로드"
   ]
  },
  {
   "cell_type": "code",
   "execution_count": 1,
   "id": "bbf9c6cf",
   "metadata": {},
   "outputs": [],
   "source": [
    "from sklearn.metrics import classification_report, confusion_matrix"
   ]
  },
  {
   "cell_type": "markdown",
   "id": "ec610771-01dc-4716-b636-8d52a9c34322",
   "metadata": {},
   "source": [
    "**sklearn.metrics**는 scikit-learn 패키지 중 모델 평가에 사용되는 모듈이다.  \n",
    "sklearn.metrics 패키지의 모듈 중 **classification_report**는 주요 분류 측정 항목을 보여주는 보고서 모듈이다.  \n",
    "**confusion_matrix**는 분류의 정확성을 평가하기 위한 오차행렬 계산 모듈이다."
   ]
  },
  {
   "cell_type": "code",
   "execution_count": 2,
   "id": "426aef52",
   "metadata": {},
   "outputs": [],
   "source": [
    "from sklearn.model_selection import train_test_split"
   ]
  },
  {
   "cell_type": "markdown",
   "id": "254a8b2a-9377-433f-b279-dc4e38d8f12d",
   "metadata": {},
   "source": [
    "**sklearn.model_selection**은 scikit-learn 패키지 중 클래스를 나눌 때, 그리고 함수를 통해 train/test 셋을 나눌 때, 아울러 모델 검증에 사용되는 서브 패키지이다.  \n",
    "sklearn.model_selection 패캐지의 모듈중 **train_test_split**은 배열 또는 행렬을 임의의 훈련 및 테스트셋으로 분할하는 모듈이다."
   ]
  },
  {
   "cell_type": "code",
   "execution_count": 3,
   "id": "cd6b7143",
   "metadata": {},
   "outputs": [],
   "source": [
    "from sklearn.tree import DecisionTreeClassifier"
   ]
  },
  {
   "cell_type": "code",
   "execution_count": 4,
   "id": "d3235914",
   "metadata": {},
   "outputs": [],
   "source": [
    "from sklearn import tree"
   ]
  },
  {
   "cell_type": "markdown",
   "id": "1e6e7d0d-0d01-4e3a-9eda-f1d376a85d78",
   "metadata": {},
   "source": [
    "**sklearn.tree**는 scikit-learn 패캐지 중 분류 및 회귀를 위한 의사결정 트리 기반 모델이 있는 서브 패키지이다.  \n",
    "sklearn.tree 패키지의 모듈 중 **DecisionTreeClassifier**는 의사결정 트리 분류 모듈이다."
   ]
  },
  {
   "cell_type": "code",
   "execution_count": 5,
   "id": "d9b5bc92",
   "metadata": {},
   "outputs": [],
   "source": [
    "from IPython.display import Image"
   ]
  },
  {
   "cell_type": "markdown",
   "id": "068d20b5-07f1-430a-ac03-d14a2e59479b",
   "metadata": {},
   "source": [
    "**iPython.display**는 iPython 내에 정보를 보여주는 도구 용도의 공용 API이다.  \n",
    "IPython.display API 모듈 증 Image는 원시(raw)데이터가 있는 png나 jpeg등의 이미지 객체를 만드는 모듈이다."
   ]
  },
  {
   "cell_type": "code",
   "execution_count": 6,
   "id": "305a3dd8",
   "metadata": {},
   "outputs": [],
   "source": [
    "import pandas as pd"
   ]
  },
  {
   "cell_type": "markdown",
   "id": "38c36adb-cf9a-4660-9695-113e81ba2816",
   "metadata": {},
   "source": [
    "**pandas**는 데이터를 구조화된 형식으로 가공 및 분석할 수 있도록 자료구조를 제공하는 패키지이다.\n",
    "여기서 as pd는 pandas를 약칭 pd로 사용한다는 의미이다."
   ]
  },
  {
   "cell_type": "code",
   "execution_count": 7,
   "id": "91460ded",
   "metadata": {},
   "outputs": [],
   "source": [
    "import numpy as np"
   ]
  },
  {
   "cell_type": "markdown",
   "id": "1d002d92-d677-4c9f-8832-e7fec6d8aeae",
   "metadata": {},
   "source": [
    "**Numpy**는 Numercial Python으로 고성능 계산이나 데이터 분석에 유용한 패키지이다.  여기서 as pd는 pandas를 약칭 pd로 사용한다는 의미이다."
   ]
  },
  {
   "cell_type": "code",
   "execution_count": 8,
   "id": "a078e711",
   "metadata": {},
   "outputs": [],
   "source": [
    "import pydotplus     # Anaconda Prompt에서 pip install pydotplus 라고 치면 pydotplus가 설치된다."
   ]
  },
  {
   "cell_type": "markdown",
   "id": "080b0885-dc20-46a5-bc4b-68d86dd3c07a",
   "metadata": {},
   "source": [
    "**pydotplus**는 그래프를 생성하는 graphviz의 dot 언어를 파이썬 인터페이스로 제공하는 모듈이다."
   ]
  },
  {
   "cell_type": "code",
   "execution_count": 9,
   "id": "a4dc75ae",
   "metadata": {},
   "outputs": [],
   "source": [
    "import os"
   ]
  },
  {
   "cell_type": "markdown",
   "id": "d59d06d1-48a4-4017-acce-b8e5e9377609",
   "metadata": {},
   "source": [
    "**os**는 운영체제와 상호작용하기 위한 기본적인 기능(경로 생성, 변경 등)이 제공되는 모듈이다."
   ]
  },
  {
   "cell_type": "markdown",
   "id": "322955c6-0b0b-4411-8e3e-c5230ac0b803",
   "metadata": {},
   "source": [
    "## (2) 데이터 로드"
   ]
  },
  {
   "cell_type": "code",
   "execution_count": 10,
   "id": "d7e54117",
   "metadata": {},
   "outputs": [
    {
     "data": {
      "text/html": [
       "<div>\n",
       "<style scoped>\n",
       "    .dataframe tbody tr th:only-of-type {\n",
       "        vertical-align: middle;\n",
       "    }\n",
       "\n",
       "    .dataframe tbody tr th {\n",
       "        vertical-align: top;\n",
       "    }\n",
       "\n",
       "    .dataframe thead th {\n",
       "        text-align: right;\n",
       "    }\n",
       "</style>\n",
       "<table border=\"1\" class=\"dataframe\">\n",
       "  <thead>\n",
       "    <tr style=\"text-align: right;\">\n",
       "      <th></th>\n",
       "      <th>outlook</th>\n",
       "      <th>temp</th>\n",
       "      <th>humidity</th>\n",
       "      <th>windy</th>\n",
       "      <th>play</th>\n",
       "    </tr>\n",
       "  </thead>\n",
       "  <tbody>\n",
       "    <tr>\n",
       "      <th>0</th>\n",
       "      <td>sunny</td>\n",
       "      <td>hot</td>\n",
       "      <td>high</td>\n",
       "      <td>False</td>\n",
       "      <td>no</td>\n",
       "    </tr>\n",
       "    <tr>\n",
       "      <th>1</th>\n",
       "      <td>sunny</td>\n",
       "      <td>hot</td>\n",
       "      <td>high</td>\n",
       "      <td>True</td>\n",
       "      <td>no</td>\n",
       "    </tr>\n",
       "    <tr>\n",
       "      <th>2</th>\n",
       "      <td>overcast</td>\n",
       "      <td>hot</td>\n",
       "      <td>high</td>\n",
       "      <td>False</td>\n",
       "      <td>yes</td>\n",
       "    </tr>\n",
       "    <tr>\n",
       "      <th>3</th>\n",
       "      <td>rainy</td>\n",
       "      <td>mild</td>\n",
       "      <td>high</td>\n",
       "      <td>False</td>\n",
       "      <td>yes</td>\n",
       "    </tr>\n",
       "    <tr>\n",
       "      <th>4</th>\n",
       "      <td>rainy</td>\n",
       "      <td>cool</td>\n",
       "      <td>normal</td>\n",
       "      <td>False</td>\n",
       "      <td>yes</td>\n",
       "    </tr>\n",
       "    <tr>\n",
       "      <th>5</th>\n",
       "      <td>rainy</td>\n",
       "      <td>cool</td>\n",
       "      <td>normal</td>\n",
       "      <td>True</td>\n",
       "      <td>no</td>\n",
       "    </tr>\n",
       "    <tr>\n",
       "      <th>6</th>\n",
       "      <td>overcast</td>\n",
       "      <td>cool</td>\n",
       "      <td>normal</td>\n",
       "      <td>True</td>\n",
       "      <td>yes</td>\n",
       "    </tr>\n",
       "    <tr>\n",
       "      <th>7</th>\n",
       "      <td>sunny</td>\n",
       "      <td>mild</td>\n",
       "      <td>high</td>\n",
       "      <td>False</td>\n",
       "      <td>no</td>\n",
       "    </tr>\n",
       "    <tr>\n",
       "      <th>8</th>\n",
       "      <td>sunny</td>\n",
       "      <td>cool</td>\n",
       "      <td>normal</td>\n",
       "      <td>False</td>\n",
       "      <td>yes</td>\n",
       "    </tr>\n",
       "    <tr>\n",
       "      <th>9</th>\n",
       "      <td>rainy</td>\n",
       "      <td>mild</td>\n",
       "      <td>normal</td>\n",
       "      <td>False</td>\n",
       "      <td>yes</td>\n",
       "    </tr>\n",
       "    <tr>\n",
       "      <th>10</th>\n",
       "      <td>sunny</td>\n",
       "      <td>mild</td>\n",
       "      <td>normal</td>\n",
       "      <td>True</td>\n",
       "      <td>yes</td>\n",
       "    </tr>\n",
       "    <tr>\n",
       "      <th>11</th>\n",
       "      <td>overcast</td>\n",
       "      <td>mild</td>\n",
       "      <td>high</td>\n",
       "      <td>True</td>\n",
       "      <td>yes</td>\n",
       "    </tr>\n",
       "    <tr>\n",
       "      <th>12</th>\n",
       "      <td>overcast</td>\n",
       "      <td>hot</td>\n",
       "      <td>normal</td>\n",
       "      <td>False</td>\n",
       "      <td>yes</td>\n",
       "    </tr>\n",
       "    <tr>\n",
       "      <th>13</th>\n",
       "      <td>rainy</td>\n",
       "      <td>mild</td>\n",
       "      <td>high</td>\n",
       "      <td>True</td>\n",
       "      <td>no</td>\n",
       "    </tr>\n",
       "  </tbody>\n",
       "</table>\n",
       "</div>"
      ],
      "text/plain": [
       "     outlook  temp humidity  windy play\n",
       "0      sunny   hot     high  False   no\n",
       "1      sunny   hot     high   True   no\n",
       "2   overcast   hot     high  False  yes\n",
       "3      rainy  mild     high  False  yes\n",
       "4      rainy  cool   normal  False  yes\n",
       "5      rainy  cool   normal   True   no\n",
       "6   overcast  cool   normal   True  yes\n",
       "7      sunny  mild     high  False   no\n",
       "8      sunny  cool   normal  False  yes\n",
       "9      rainy  mild   normal  False  yes\n",
       "10     sunny  mild   normal   True  yes\n",
       "11  overcast  mild     high   True  yes\n",
       "12  overcast   hot   normal  False  yes\n",
       "13     rainy  mild     high   True   no"
      ]
     },
     "execution_count": 10,
     "metadata": {},
     "output_type": "execute_result"
    }
   ],
   "source": [
    "tennis_data = pd.read_csv('playtennis.csv')\n",
    "tennis_data"
   ]
  },
  {
   "cell_type": "markdown",
   "id": "fa7c434d-0138-4648-b6cf-cc83f2267c72",
   "metadata": {},
   "source": [
    "## (3) 데이터 전처리\n",
    "다음 코드는 변수 tennis_data의 각 컬럼(outlook, temp, hunidity, windy, play)의 값(sunny, overcast, ...등)을 문자열(string) 타입에서 숫자(int) 타입으로 대치(replace)해 변수 tennis_data에 저장한다."
   ]
  },
  {
   "cell_type": "code",
   "execution_count": 11,
   "id": "38d2d4da",
   "metadata": {},
   "outputs": [
    {
     "data": {
      "text/html": [
       "<div>\n",
       "<style scoped>\n",
       "    .dataframe tbody tr th:only-of-type {\n",
       "        vertical-align: middle;\n",
       "    }\n",
       "\n",
       "    .dataframe tbody tr th {\n",
       "        vertical-align: top;\n",
       "    }\n",
       "\n",
       "    .dataframe thead th {\n",
       "        text-align: right;\n",
       "    }\n",
       "</style>\n",
       "<table border=\"1\" class=\"dataframe\">\n",
       "  <thead>\n",
       "    <tr style=\"text-align: right;\">\n",
       "      <th></th>\n",
       "      <th>outlook</th>\n",
       "      <th>temp</th>\n",
       "      <th>humidity</th>\n",
       "      <th>windy</th>\n",
       "      <th>play</th>\n",
       "    </tr>\n",
       "  </thead>\n",
       "  <tbody>\n",
       "    <tr>\n",
       "      <th>0</th>\n",
       "      <td>0</td>\n",
       "      <td>3</td>\n",
       "      <td>6</td>\n",
       "      <td>8</td>\n",
       "      <td>10</td>\n",
       "    </tr>\n",
       "    <tr>\n",
       "      <th>1</th>\n",
       "      <td>0</td>\n",
       "      <td>3</td>\n",
       "      <td>6</td>\n",
       "      <td>9</td>\n",
       "      <td>10</td>\n",
       "    </tr>\n",
       "    <tr>\n",
       "      <th>2</th>\n",
       "      <td>1</td>\n",
       "      <td>3</td>\n",
       "      <td>6</td>\n",
       "      <td>8</td>\n",
       "      <td>11</td>\n",
       "    </tr>\n",
       "    <tr>\n",
       "      <th>3</th>\n",
       "      <td>2</td>\n",
       "      <td>4</td>\n",
       "      <td>6</td>\n",
       "      <td>8</td>\n",
       "      <td>11</td>\n",
       "    </tr>\n",
       "    <tr>\n",
       "      <th>4</th>\n",
       "      <td>2</td>\n",
       "      <td>5</td>\n",
       "      <td>7</td>\n",
       "      <td>8</td>\n",
       "      <td>11</td>\n",
       "    </tr>\n",
       "    <tr>\n",
       "      <th>5</th>\n",
       "      <td>2</td>\n",
       "      <td>5</td>\n",
       "      <td>7</td>\n",
       "      <td>9</td>\n",
       "      <td>10</td>\n",
       "    </tr>\n",
       "    <tr>\n",
       "      <th>6</th>\n",
       "      <td>1</td>\n",
       "      <td>5</td>\n",
       "      <td>7</td>\n",
       "      <td>9</td>\n",
       "      <td>11</td>\n",
       "    </tr>\n",
       "    <tr>\n",
       "      <th>7</th>\n",
       "      <td>0</td>\n",
       "      <td>4</td>\n",
       "      <td>6</td>\n",
       "      <td>8</td>\n",
       "      <td>10</td>\n",
       "    </tr>\n",
       "    <tr>\n",
       "      <th>8</th>\n",
       "      <td>0</td>\n",
       "      <td>5</td>\n",
       "      <td>7</td>\n",
       "      <td>8</td>\n",
       "      <td>11</td>\n",
       "    </tr>\n",
       "    <tr>\n",
       "      <th>9</th>\n",
       "      <td>2</td>\n",
       "      <td>4</td>\n",
       "      <td>7</td>\n",
       "      <td>8</td>\n",
       "      <td>11</td>\n",
       "    </tr>\n",
       "    <tr>\n",
       "      <th>10</th>\n",
       "      <td>0</td>\n",
       "      <td>4</td>\n",
       "      <td>7</td>\n",
       "      <td>9</td>\n",
       "      <td>11</td>\n",
       "    </tr>\n",
       "    <tr>\n",
       "      <th>11</th>\n",
       "      <td>1</td>\n",
       "      <td>4</td>\n",
       "      <td>6</td>\n",
       "      <td>9</td>\n",
       "      <td>11</td>\n",
       "    </tr>\n",
       "    <tr>\n",
       "      <th>12</th>\n",
       "      <td>1</td>\n",
       "      <td>3</td>\n",
       "      <td>7</td>\n",
       "      <td>8</td>\n",
       "      <td>11</td>\n",
       "    </tr>\n",
       "    <tr>\n",
       "      <th>13</th>\n",
       "      <td>2</td>\n",
       "      <td>4</td>\n",
       "      <td>6</td>\n",
       "      <td>9</td>\n",
       "      <td>10</td>\n",
       "    </tr>\n",
       "  </tbody>\n",
       "</table>\n",
       "</div>"
      ],
      "text/plain": [
       "    outlook  temp  humidity  windy  play\n",
       "0         0     3         6      8    10\n",
       "1         0     3         6      9    10\n",
       "2         1     3         6      8    11\n",
       "3         2     4         6      8    11\n",
       "4         2     5         7      8    11\n",
       "5         2     5         7      9    10\n",
       "6         1     5         7      9    11\n",
       "7         0     4         6      8    10\n",
       "8         0     5         7      8    11\n",
       "9         2     4         7      8    11\n",
       "10        0     4         7      9    11\n",
       "11        1     4         6      9    11\n",
       "12        1     3         7      8    11\n",
       "13        2     4         6      9    10"
      ]
     },
     "execution_count": 11,
     "metadata": {},
     "output_type": "execute_result"
    }
   ],
   "source": [
    "tennis_data.outlook = tennis_data.outlook.replace('sunny',0)\n",
    "tennis_data.outlook = tennis_data.outlook.replace('overcast', 1)\n",
    "tennis_data.outlook = tennis_data.outlook.replace('rainy',2)\n",
    "\n",
    "tennis_data.temp = tennis_data.temp.replace('hot',3)\n",
    "tennis_data.temp = tennis_data.temp.replace('mild',4)\n",
    "tennis_data.temp = tennis_data.temp.replace('cool',5)\n",
    "\n",
    "tennis_data.humidity = tennis_data.humidity.replace('high',6)\n",
    "tennis_data.humidity = tennis_data.humidity.replace('normal',7)\n",
    "\n",
    "tennis_data.windy = tennis_data.windy.replace(False,8)\n",
    "tennis_data.windy = tennis_data.windy.replace(True,9)\n",
    "\n",
    "tennis_data.play = tennis_data.play.replace('no',10)\n",
    "tennis_data.play = tennis_data.play.replace('yes',11)\n",
    "\n",
    "tennis_data"
   ]
  },
  {
   "cell_type": "markdown",
   "id": "19893815-731d-4aa6-a8af-802a5663b9cc",
   "metadata": {},
   "source": [
    "## (4) 속성과 클래스 분리"
   ]
  },
  {
   "cell_type": "code",
   "execution_count": 12,
   "id": "877f7316",
   "metadata": {},
   "outputs": [],
   "source": [
    "X = np.array(pd.DataFrame(tennis_data, columns=['outlook','temp', 'humidity', 'windy']))"
   ]
  },
  {
   "cell_type": "markdown",
   "id": "99c2f3e0-cb07-43db-bba9-dfe4cbb6cbf5",
   "metadata": {},
   "source": [
    "변수 tennis_data의 컬럼(outlook, temp 등)의 값들을 데이터프레임 형태로 추출하고  \n",
    "np.array 함수를 이용해 추출한 데이터를 배열형태로 변환한 후 변수 X에 저장한다."
   ]
  },
  {
   "cell_type": "code",
   "execution_count": 13,
   "id": "e2ee8258",
   "metadata": {},
   "outputs": [],
   "source": [
    "y = np.array(pd.DataFrame(tennis_data, columns=['play']))"
   ]
  },
  {
   "cell_type": "markdown",
   "id": "25a3ce01-3068-4030-9688-c74fc74dd960",
   "metadata": {},
   "source": [
    "변수 tennis_data의 컬럼(play)값을 데이터 프레임 형태로 추출하고 np.array 함수를 이용해 추출한 데이터를 배열형태로 변환한 후 변수 y에 저장한다."
   ]
  },
  {
   "cell_type": "code",
   "execution_count": 14,
   "id": "448ba2d1",
   "metadata": {},
   "outputs": [],
   "source": [
    "X_train, X_test, y_train, y_test = train_test_split(X,y)"
   ]
  },
  {
   "cell_type": "markdown",
   "id": "490a34f7-3b7c-480d-9d6b-4189994d77bb",
   "metadata": {},
   "source": [
    "load된 train_test_aplit 모듈을 이용해 변수 X에 입력 4개 컬럼의 데이터와 변수 y에 입력한 playtennis 컬럼의 데이터를, train(훈련)과 test(테스트)로 구분해, 임의의 개수로 각각 변수 X_train, X_test, y_train, y_test에 저장한다."
   ]
  },
  {
   "cell_type": "code",
   "execution_count": 15,
   "id": "124c0caf",
   "metadata": {},
   "outputs": [
    {
     "data": {
      "text/plain": [
       "array([[1, 4, 6, 9],\n",
       "       [1, 5, 7, 9],\n",
       "       [0, 4, 7, 9],\n",
       "       [2, 4, 7, 8],\n",
       "       [2, 5, 7, 8],\n",
       "       [2, 5, 7, 9],\n",
       "       [0, 3, 6, 8],\n",
       "       [1, 3, 7, 8],\n",
       "       [0, 5, 7, 8],\n",
       "       [2, 4, 6, 8]], dtype=int64)"
      ]
     },
     "execution_count": 15,
     "metadata": {},
     "output_type": "execute_result"
    }
   ],
   "source": [
    "X_train"
   ]
  },
  {
   "cell_type": "code",
   "execution_count": 16,
   "id": "e87bba17",
   "metadata": {},
   "outputs": [
    {
     "data": {
      "text/plain": [
       "array([[1, 3, 6, 8],\n",
       "       [2, 4, 6, 9],\n",
       "       [0, 4, 6, 8],\n",
       "       [0, 3, 6, 9]], dtype=int64)"
      ]
     },
     "execution_count": 16,
     "metadata": {},
     "output_type": "execute_result"
    }
   ],
   "source": [
    "X_test"
   ]
  },
  {
   "cell_type": "code",
   "execution_count": 17,
   "id": "4861eed4",
   "metadata": {},
   "outputs": [
    {
     "data": {
      "text/plain": [
       "array([[11],\n",
       "       [11],\n",
       "       [11],\n",
       "       [11],\n",
       "       [11],\n",
       "       [10],\n",
       "       [10],\n",
       "       [11],\n",
       "       [11],\n",
       "       [11]], dtype=int64)"
      ]
     },
     "execution_count": 17,
     "metadata": {},
     "output_type": "execute_result"
    }
   ],
   "source": [
    "y_train"
   ]
  },
  {
   "cell_type": "code",
   "execution_count": 18,
   "id": "81d3550b",
   "metadata": {},
   "outputs": [
    {
     "data": {
      "text/plain": [
       "array([[11],\n",
       "       [10],\n",
       "       [10],\n",
       "       [10]], dtype=int64)"
      ]
     },
     "execution_count": 18,
     "metadata": {},
     "output_type": "execute_result"
    }
   ],
   "source": [
    "y_test"
   ]
  },
  {
   "cell_type": "markdown",
   "id": "68a2b022-2451-487e-a89c-89ccc5be9864",
   "metadata": {},
   "source": [
    "## (5) 데이터 학습"
   ]
  },
  {
   "cell_type": "code",
   "execution_count": 19,
   "id": "74acc82e",
   "metadata": {},
   "outputs": [],
   "source": [
    "dt_clf = DecisionTreeClassifier()"
   ]
  },
  {
   "cell_type": "markdown",
   "id": "2711ee0a-7a2f-43b4-95f5-7a1dbb93d5ce",
   "metadata": {},
   "source": [
    "로드된 의사결정 트리 분류 모듈을 변수 dt_clf에 저장한다."
   ]
  },
  {
   "cell_type": "code",
   "execution_count": 20,
   "id": "0a77c561",
   "metadata": {},
   "outputs": [],
   "source": [
    "dt_clf = dt_clf.fit(X_train, y_train)"
   ]
  },
  {
   "cell_type": "markdown",
   "id": "4f19a591-4de6-4035-8511-62313fd1400d",
   "metadata": {},
   "source": [
    "의사결정 트리 분류 모듈이 저장된 **변수 dt_clf 의 함수 fit()** 에 **변수 X_train, y_train**을 입력해 의사결정 트리 분류 모델을 생성한다.  \n",
    "그런 다음 생성한 모델을 다시 변수 dt_clf에 저장한다."
   ]
  },
  {
   "cell_type": "code",
   "execution_count": 21,
   "id": "f84a1c1f",
   "metadata": {},
   "outputs": [],
   "source": [
    "dt_prediction = dt_clf.predict(X_test)"
   ]
  },
  {
   "cell_type": "markdown",
   "id": "434ea8f2-a97b-4331-b104-2fdb45c25b12",
   "metadata": {},
   "source": [
    "변수 dt_clf의 함수 prdict()에 변수 X_test를 입력한다. 그리고 입력한 X_test에 대한 클래스 예측 값을 변수 dt_prediction에 저장한다. "
   ]
  },
  {
   "cell_type": "markdown",
   "id": "5e1b44bb",
   "metadata": {},
   "source": [
    "## (7) 의사결정 트리 그래프 표현\n"
   ]
  },
  {
   "cell_type": "code",
   "execution_count": 22,
   "id": "ba8e286a",
   "metadata": {},
   "outputs": [],
   "source": [
    "os.environ[\"PATH\"] += os.pathsep + \"C:\\Program Files\\Graphviz\\bin\""
   ]
  },
  {
   "cell_type": "code",
   "execution_count": 23,
   "id": "8b925ba0",
   "metadata": {},
   "outputs": [],
   "source": [
    "feature_names = tennis_data.columns.tolist()"
   ]
  },
  {
   "cell_type": "code",
   "execution_count": 24,
   "id": "2de7f2f4",
   "metadata": {},
   "outputs": [],
   "source": [
    "featrue_names = feature_names[0:4]"
   ]
  },
  {
   "cell_type": "code",
   "execution_count": 25,
   "id": "a8f9a190",
   "metadata": {},
   "outputs": [],
   "source": [
    "target_name = np.array(['Play No', 'Play Yes'])"
   ]
  },
  {
   "cell_type": "code",
   "execution_count": 30,
   "id": "602ab023",
   "metadata": {},
   "outputs": [],
   "source": [
    "dt_dot_data = tree.export_graphviz(dt_clf, out_file = None,\n",
    "                                   #feature_names = feature_names,\n",
    "                                   class_names = target_name,\n",
    "                                   filled = True, rounded = True,\n",
    "                                   special_characters = True)"
   ]
  },
  {
   "cell_type": "code",
   "execution_count": 31,
   "id": "fc0b940f",
   "metadata": {},
   "outputs": [],
   "source": [
    "dt_graph = pydotplus.graph_from_dot_data(dt_dot_data)"
   ]
  },
  {
   "cell_type": "code",
   "execution_count": 32,
   "id": "cfbb516e",
   "metadata": {},
   "outputs": [
    {
     "ename": "InvocationException",
     "evalue": "GraphViz's executables not found",
     "output_type": "error",
     "traceback": [
      "\u001b[1;31m---------------------------------------------------------------------------\u001b[0m",
      "\u001b[1;31mInvocationException\u001b[0m                       Traceback (most recent call last)",
      "\u001b[1;32m<ipython-input-32-4692a2ba348d>\u001b[0m in \u001b[0;36m<module>\u001b[1;34m\u001b[0m\n\u001b[1;32m----> 1\u001b[1;33m \u001b[0mImage\u001b[0m\u001b[1;33m(\u001b[0m\u001b[0mdt_graph\u001b[0m\u001b[1;33m.\u001b[0m\u001b[0mcreate_png\u001b[0m\u001b[1;33m(\u001b[0m\u001b[1;33m)\u001b[0m\u001b[1;33m)\u001b[0m\u001b[1;33m\u001b[0m\u001b[1;33m\u001b[0m\u001b[0m\n\u001b[0m",
      "\u001b[1;32m~\\anaconda3\\lib\\site-packages\\pydotplus\\graphviz.py\u001b[0m in \u001b[0;36m<lambda>\u001b[1;34m(f, prog)\u001b[0m\n\u001b[0;32m   1795\u001b[0m             self.__setattr__(\n\u001b[0;32m   1796\u001b[0m                 \u001b[1;34m'create_'\u001b[0m \u001b[1;33m+\u001b[0m \u001b[0mfrmt\u001b[0m\u001b[1;33m,\u001b[0m\u001b[1;33m\u001b[0m\u001b[1;33m\u001b[0m\u001b[0m\n\u001b[1;32m-> 1797\u001b[1;33m                 \u001b[1;32mlambda\u001b[0m \u001b[0mf\u001b[0m\u001b[1;33m=\u001b[0m\u001b[0mfrmt\u001b[0m\u001b[1;33m,\u001b[0m \u001b[0mprog\u001b[0m\u001b[1;33m=\u001b[0m\u001b[0mself\u001b[0m\u001b[1;33m.\u001b[0m\u001b[0mprog\u001b[0m\u001b[1;33m:\u001b[0m \u001b[0mself\u001b[0m\u001b[1;33m.\u001b[0m\u001b[0mcreate\u001b[0m\u001b[1;33m(\u001b[0m\u001b[0mformat\u001b[0m\u001b[1;33m=\u001b[0m\u001b[0mf\u001b[0m\u001b[1;33m,\u001b[0m \u001b[0mprog\u001b[0m\u001b[1;33m=\u001b[0m\u001b[0mprog\u001b[0m\u001b[1;33m)\u001b[0m\u001b[1;33m\u001b[0m\u001b[1;33m\u001b[0m\u001b[0m\n\u001b[0m\u001b[0;32m   1798\u001b[0m             )\n\u001b[0;32m   1799\u001b[0m             \u001b[0mf\u001b[0m \u001b[1;33m=\u001b[0m \u001b[0mself\u001b[0m\u001b[1;33m.\u001b[0m\u001b[0m__dict__\u001b[0m\u001b[1;33m[\u001b[0m\u001b[1;34m'create_'\u001b[0m \u001b[1;33m+\u001b[0m \u001b[0mfrmt\u001b[0m\u001b[1;33m]\u001b[0m\u001b[1;33m\u001b[0m\u001b[1;33m\u001b[0m\u001b[0m\n",
      "\u001b[1;32m~\\anaconda3\\lib\\site-packages\\pydotplus\\graphviz.py\u001b[0m in \u001b[0;36mcreate\u001b[1;34m(self, prog, format)\u001b[0m\n\u001b[0;32m   1957\u001b[0m             \u001b[0mself\u001b[0m\u001b[1;33m.\u001b[0m\u001b[0mprogs\u001b[0m \u001b[1;33m=\u001b[0m \u001b[0mfind_graphviz\u001b[0m\u001b[1;33m(\u001b[0m\u001b[1;33m)\u001b[0m\u001b[1;33m\u001b[0m\u001b[1;33m\u001b[0m\u001b[0m\n\u001b[0;32m   1958\u001b[0m             \u001b[1;32mif\u001b[0m \u001b[0mself\u001b[0m\u001b[1;33m.\u001b[0m\u001b[0mprogs\u001b[0m \u001b[1;32mis\u001b[0m \u001b[1;32mNone\u001b[0m\u001b[1;33m:\u001b[0m\u001b[1;33m\u001b[0m\u001b[1;33m\u001b[0m\u001b[0m\n\u001b[1;32m-> 1959\u001b[1;33m                 raise InvocationException(\n\u001b[0m\u001b[0;32m   1960\u001b[0m                     'GraphViz\\'s executables not found')\n\u001b[0;32m   1961\u001b[0m \u001b[1;33m\u001b[0m\u001b[0m\n",
      "\u001b[1;31mInvocationException\u001b[0m: GraphViz's executables not found"
     ]
    }
   ],
   "source": [
    "Image(dt_graph.create_png())"
   ]
  },
  {
   "cell_type": "code",
   "execution_count": null,
   "id": "29a71ead",
   "metadata": {},
   "outputs": [],
   "source": []
  }
 ],
 "metadata": {
  "kernelspec": {
   "display_name": "Python 3",
   "language": "python",
   "name": "python3"
  },
  "language_info": {
   "codemirror_mode": {
    "name": "ipython",
    "version": 3
   },
   "file_extension": ".py",
   "mimetype": "text/x-python",
   "name": "python",
   "nbconvert_exporter": "python",
   "pygments_lexer": "ipython3",
   "version": "3.8.8"
  }
 },
 "nbformat": 4,
 "nbformat_minor": 5
}
