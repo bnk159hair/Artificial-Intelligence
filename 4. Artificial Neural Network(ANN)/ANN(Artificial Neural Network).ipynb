{
 "cells": [
  {
   "cell_type": "markdown",
   "id": "fcebd8f9",
   "metadata": {},
   "source": [
    "# 텐서플로우를 이용한 ANN(Artificial Neural Network) 구현"
   ]
  },
  {
   "cell_type": "code",
   "execution_count": 1,
   "id": "10a8ff5b",
   "metadata": {},
   "outputs": [],
   "source": [
    "import tensorflow as tf\n",
    "(x_train, y_train), (x_test, y_test) = tf.keras.datasets.mnist.load_data()"
   ]
  },
  {
   "cell_type": "markdown",
   "id": "311c3095",
   "metadata": {},
   "source": [
    "MNIST 데이터를 다운로드합니다."
   ]
  },
  {
   "cell_type": "code",
   "execution_count": 2,
   "id": "6e493719",
   "metadata": {},
   "outputs": [],
   "source": [
    "x_train, x_test = x_train.astype('float32'), x_test.astype('float32')"
   ]
  },
  {
   "cell_type": "markdown",
   "id": "bf7e7083",
   "metadata": {},
   "source": [
    "이미지들을 float32 데이터 타입으로 변경합니다."
   ]
  },
  {
   "cell_type": "code",
   "execution_count": 3,
   "id": "9408c596",
   "metadata": {},
   "outputs": [],
   "source": [
    "x_train, x_test = x_train.reshape([-1, 784]), x_test.reshape([-1, 784])"
   ]
  },
  {
   "cell_type": "markdown",
   "id": "6daf965b",
   "metadata": {},
   "source": [
    "28x28 형태의 이미지를 784 차원으로 flattenting합니다."
   ]
  },
  {
   "cell_type": "code",
   "execution_count": 4,
   "id": "fcea5de5",
   "metadata": {},
   "outputs": [],
   "source": [
    "x_train, x_test = x_train/255., x_test/255."
   ]
  },
  {
   "cell_type": "markdown",
   "id": "848075a4",
   "metadata": {},
   "source": [
    "[0,255] 사이의 값을 [0,1] 사이의 값으로 Normalize합니다"
   ]
  },
  {
   "cell_type": "code",
   "execution_count": 5,
   "id": "3e63dfad",
   "metadata": {},
   "outputs": [],
   "source": [
    "y_train, y_test = tf.one_hot(y_train, depth=10), tf.one_hot(y_test, depth=10)"
   ]
  },
  {
   "cell_type": "markdown",
   "id": "f95f2d45",
   "metadata": {},
   "source": [
    "레이블 데이터에 one-hot encoding을 적용합니다."
   ]
  },
  {
   "cell_type": "code",
   "execution_count": 6,
   "id": "c82bd16b",
   "metadata": {},
   "outputs": [],
   "source": [
    "learning_rate = 0.001\n",
    "num_epochs = 30 #학습횟수\n",
    "batch_size = 256 #배치개수\n",
    "display_step = 1 #손실함수 출력 주기\n",
    "input_size = 784 # 28 * 28\n",
    "hidden1_size = 256\n",
    "hidden2_size = 256\n",
    "output_size = 10"
   ]
  },
  {
   "cell_type": "markdown",
   "id": "1d634ab8",
   "metadata": {},
   "source": [
    "학습을 위한 설정값들을 정의합니다."
   ]
  },
  {
   "cell_type": "code",
   "execution_count": 7,
   "id": "866f9f37",
   "metadata": {},
   "outputs": [],
   "source": [
    "train_data = tf.data.Dataset.from_tensor_slices((x_train, y_train))\n",
    "train_data = train_data.shuffle(60000).batch(batch_size)"
   ]
  },
  {
   "cell_type": "markdown",
   "id": "c58e4712",
   "metadata": {},
   "source": [
    "tf.data API를 이용해서 데이터를 섞고 batch 형태로 가져옵니다."
   ]
  },
  {
   "cell_type": "code",
   "execution_count": 8,
   "id": "5fb508e7",
   "metadata": {},
   "outputs": [],
   "source": [
    "# ANN 모델을 정의한다.\n",
    "class ANN(object):\n",
    "    # ANN 모델을 위한 tf.Variable들을 정의한다.\n",
    "    def __init__(self):\n",
    "        self.W1 = tf.Variable(tf.random.normal(shape=[input_size, hidden1_size]))\n",
    "        self.b1 = tf.Variable(tf.random.normal(shape=[hidden1_size]))\n",
    "        self.W2 = tf.Variable(tf.random.normal(shape=[hidden1_size, hidden2_size]))\n",
    "        self.b2 = tf.Variable(tf.random.normal(shape=[hidden2_size]))\n",
    "        self.W_output = tf.Variable(tf.random.normal(shape=[hidden2_size, output_size]))\n",
    "        self.b_output = tf.Variable(tf.random.normal(shape=[output_size]))\n",
    "    def __call__(self, x):\n",
    "        H1_output = tf.nn.relu(tf.matmul(x, self.W1) + self.b1)\n",
    "        H2_output = tf.nn.relu(tf.matmul(H1_output, self.W2) + self.b2)\n",
    "        logits = tf.matmul(H2_output, self.W_output) + self.b_output\n",
    "        \n",
    "        return logits"
   ]
  },
  {
   "cell_type": "code",
   "execution_count": 9,
   "id": "e45de588",
   "metadata": {},
   "outputs": [],
   "source": [
    "@tf.function\n",
    "def cross_entropy_loss(logits, y):\n",
    "    return tf.reduce_mean(tf.nn.softmax_cross_entropy_with_logits(logits=logits, labels = y))"
   ]
  },
  {
   "cell_type": "markdown",
   "id": "0acd5831",
   "metadata": {},
   "source": [
    "cross-entropy 손실 함수를 정의한다."
   ]
  },
  {
   "cell_type": "code",
   "execution_count": 10,
   "id": "0374b706",
   "metadata": {},
   "outputs": [],
   "source": [
    "optimizer = tf.optimizers.Adam(learning_rate)"
   ]
  },
  {
   "cell_type": "markdown",
   "id": "9cf34b83",
   "metadata": {},
   "source": [
    "최적화를 위한 Adam 옵티마이저를 정의한다."
   ]
  },
  {
   "cell_type": "code",
   "execution_count": 11,
   "id": "46cd95f1",
   "metadata": {},
   "outputs": [],
   "source": [
    "@tf.function\n",
    "def train_step(model, x, y):\n",
    "    with tf.GradientTape() as tape:\n",
    "        y_pred = model(x)\n",
    "        loss = cross_entropy_loss(y_pred, y)\n",
    "    gradients = tape.gradient(loss, vars(model).values())\n",
    "    optimizer.apply_gradients(zip(gradients, vars(model).values()))"
   ]
  },
  {
   "cell_type": "markdown",
   "id": "c4c0e709",
   "metadata": {},
   "source": [
    "최적화를 위한 function을 정의한다."
   ]
  },
  {
   "cell_type": "code",
   "execution_count": 12,
   "id": "03d24125",
   "metadata": {},
   "outputs": [],
   "source": [
    "@tf.function\n",
    "def compute_accuracy(y_pred, y):\n",
    "    correct_prediction = tf.equal(tf.argmax(y_pred, 1), tf.argmax(y,1))\n",
    "    accuracy = tf.reduce_mean(tf.cast(correct_prediction, tf.float32))\n",
    "    \n",
    "    return accuracy"
   ]
  },
  {
   "cell_type": "markdown",
   "id": "52f65110",
   "metadata": {},
   "source": [
    "모델의 정확도를 출력하는 함수를 정의한다."
   ]
  },
  {
   "cell_type": "code",
   "execution_count": 13,
   "id": "09661b7e",
   "metadata": {},
   "outputs": [],
   "source": [
    "ANN_model = ANN()"
   ]
  },
  {
   "cell_type": "markdown",
   "id": "ad5bd66a",
   "metadata": {},
   "source": [
    "ANN 모델을 선언한다."
   ]
  },
  {
   "cell_type": "code",
   "execution_count": 14,
   "id": "95613c34",
   "metadata": {},
   "outputs": [
    {
     "name": "stdout",
     "output_type": "stream",
     "text": [
      "반복(Epoch): 1, 손실 함수(Loss): 213.309570\n",
      "반복(Epoch): 2, 손실 함수(Loss): 55.734787\n",
      "반복(Epoch): 3, 손실 함수(Loss): 36.032207\n",
      "반복(Epoch): 4, 손실 함수(Loss): 26.685520\n",
      "반복(Epoch): 5, 손실 함수(Loss): 20.737633\n",
      "반복(Epoch): 6, 손실 함수(Loss): 16.734838\n",
      "반복(Epoch): 7, 손실 함수(Loss): 13.517226\n",
      "반복(Epoch): 8, 손실 함수(Loss): 11.106730\n",
      "반복(Epoch): 9, 손실 함수(Loss): 9.082035\n",
      "반복(Epoch): 10, 손실 함수(Loss): 7.573379\n",
      "반복(Epoch): 11, 손실 함수(Loss): 6.245502\n",
      "반복(Epoch): 12, 손실 함수(Loss): 5.077939\n",
      "반복(Epoch): 13, 손실 함수(Loss): 4.199845\n",
      "반복(Epoch): 14, 손실 함수(Loss): 3.486521\n",
      "반복(Epoch): 15, 손실 함수(Loss): 2.861541\n",
      "반복(Epoch): 16, 손실 함수(Loss): 2.299628\n",
      "반복(Epoch): 17, 손실 함수(Loss): 1.865000\n",
      "반복(Epoch): 18, 손실 함수(Loss): 1.466027\n",
      "반복(Epoch): 19, 손실 함수(Loss): 1.232642\n",
      "반복(Epoch): 20, 손실 함수(Loss): 0.978890\n",
      "반복(Epoch): 21, 손실 함수(Loss): 0.786336\n",
      "반복(Epoch): 22, 손실 함수(Loss): 0.639179\n",
      "반복(Epoch): 23, 손실 함수(Loss): 0.514994\n",
      "반복(Epoch): 24, 손실 함수(Loss): 0.424804\n",
      "반복(Epoch): 25, 손실 함수(Loss): 0.330436\n",
      "반복(Epoch): 26, 손실 함수(Loss): 0.252245\n",
      "반복(Epoch): 27, 손실 함수(Loss): 0.214588\n",
      "반복(Epoch): 28, 손실 함수(Loss): 0.196099\n",
      "반복(Epoch): 29, 손실 함수(Loss): 0.115365\n",
      "반복(Epoch): 30, 손실 함수(Loss): 0.124467\n"
     ]
    }
   ],
   "source": [
    "# 지정된 횟수만큼 최적화를 수행한다.\n",
    "for epoch in range(num_epochs):\n",
    "    average_loss = 0.\n",
    "    total_batch = int(x_train.shape[0] / batch_size)\n",
    "    # 모든 배치들에 대해서 최적화를 수행한다.\n",
    "    for batch_x, batch_y in train_data:\n",
    "        # 옵티마이저를 실행해서 파라미터들을 업데이트한다.\n",
    "        _, current_loss = train_step(ANN_model, batch_x, batch_y), cross_entropy_loss(ANN_model(batch_x), batch_y)\n",
    "        # 평균 손실을 측정한다.\n",
    "        average_loss += current_loss / total_batch\n",
    "    # 지정된 epoch마다 학습결과를 출력한다.\n",
    "    if epoch %display_step ==0:\n",
    "        print(\"반복(Epoch): %d, 손실 함수(Loss): %f\"%((epoch+1), average_loss))\n",
    "        "
   ]
  },
  {
   "cell_type": "code",
   "execution_count": 15,
   "id": "bc523b2f",
   "metadata": {},
   "outputs": [
    {
     "name": "stdout",
     "output_type": "stream",
     "text": [
      "정확도(Accuracy): 0.947000\n"
     ]
    }
   ],
   "source": [
    "print(\"정확도(Accuracy): %f\"% compute_accuracy(ANN_model(x_test), y_test))"
   ]
  },
  {
   "cell_type": "markdown",
   "id": "848a7c2a",
   "metadata": {},
   "source": [
    "테스트 데이터를 이용해서 학습된 모델이 얼마나 정확한지 정확도를 출력한다.  \n",
    "정확도: 약 94%"
   ]
  },
  {
   "cell_type": "code",
   "execution_count": null,
   "id": "1a11448d",
   "metadata": {},
   "outputs": [],
   "source": []
  }
 ],
 "metadata": {
  "kernelspec": {
   "display_name": "Python 3",
   "language": "python",
   "name": "python3"
  },
  "language_info": {
   "codemirror_mode": {
    "name": "ipython",
    "version": 3
   },
   "file_extension": ".py",
   "mimetype": "text/x-python",
   "name": "python",
   "nbconvert_exporter": "python",
   "pygments_lexer": "ipython3",
   "version": "3.8.11"
  }
 },
 "nbformat": 4,
 "nbformat_minor": 5
}
