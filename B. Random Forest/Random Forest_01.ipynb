{
 "cells": [
  {
   "cell_type": "markdown",
   "id": "35555c33",
   "metadata": {},
   "source": [
    "# Random Forest 01\n",
    "### sklerarn에서 제공해주는 iris 데이터를 이용해서 iris의 종을 예측하는 작업을 해볼거다. 작업을 진행하기 전에 iris 데이터가 어떤 형식으로 되어있는지 확인한다.    \n",
    "## iris 데이터\n",
    "sklearn에서 제공되는 iris 데이터는 sepal(꽃 받침)과 petal(꽃잎)의 너비와 길이와 iris(붓꽃)의 종을 나타내고 있다.  \n",
    "제공된 데이터를 DataFrame으로 변형시켜 작업을 진행한다.\n",
    "\n",
    "**__name__**은 파이썬의 내장변수 혹은 전역 변수이다.  \n",
    "'__name__'은 파이썬에서 정한 '이미 있는' 변수이다.   \n",
    "이 변수에는 해당 파이썬 파일의 이름 즉, 모듈의 이름을 담게 된다.  \n",
    "하지만 **해당 파일**안에서 해당 함수를 실행시키면 '__name__' 변수는 파일 혹은 모듈의  \n",
    "이름이 아니고 '__main__'이라는 값이 되도록 정해져있다."
   ]
  },
  {
   "cell_type": "code",
   "execution_count": 1,
   "id": "9f05613f",
   "metadata": {},
   "outputs": [
    {
     "name": "stdout",
     "output_type": "stream",
     "text": [
      "아이리스 종류 : ['setosa' 'versicolor' 'virginica']\n",
      "target : [0:setosa, 1:versicolor, 2:virginica]\n",
      "데이터 수 : 150\n",
      "데이터 열 이름 : ['sepal length (cm)', 'sepal width (cm)', 'petal length (cm)', 'petal width (cm)']\n",
      "   sepal length  sepal width  petal length  petal width  species\n",
      "0           5.1          3.5           1.4          0.2        0\n",
      "1           4.9          3.0           1.4          0.2        0\n",
      "2           4.7          3.2           1.3          0.2        0\n",
      "3           4.6          3.1           1.5          0.2        0\n",
      "4           5.0          3.6           1.4          0.2        0\n"
     ]
    }
   ],
   "source": [
    "import pandas as pd\n",
    "\n",
    "from sklearn import datasets\n",
    "\n",
    "if __name__ == '__main__':\n",
    "    iris = datasets.load_iris()\n",
    "    print('아이리스 종류 :', iris.target_names)\n",
    "    print('target : [0:setosa, 1:versicolor, 2:virginica]')\n",
    "    print('데이터 수 :', len(iris.data))\n",
    "    print('데이터 열 이름 :', iris.feature_names)\n",
    "    \n",
    "    # iris data Dataframe으로\n",
    "    data = pd.DataFrame(\n",
    "        {\n",
    "            'sepal length': iris.data[:, 0],\n",
    "            'sepal width': iris.data[:, 1],\n",
    "            'petal length': iris.data[:, 2],\n",
    "            'petal width': iris.data[:, 3],\n",
    "            'species': iris.target\n",
    "        })\n",
    "    print(data.head())"
   ]
  },
  {
   "cell_type": "markdown",
   "id": "23b495a7",
   "metadata": {},
   "source": [
    "## 학습 & 예측 데이터 나누기\n",
    "학습할 데이터와 예측할 데이터로 나눈다.\n",
    "\n",
    "****train_test_split****은 scikit-learn의 model_selection 패키지에서 제공하는  \n",
    "모듈로써 손쉽게 train set(학습데이터 셋)과 test set(테스트 셋)을 분리 할 수 있다.  \n"
   ]
  },
  {
   "cell_type": "code",
   "execution_count": 2,
   "id": "e2039796",
   "metadata": {},
   "outputs": [
    {
     "name": "stdout",
     "output_type": "stream",
     "text": [
      "105\n",
      "45\n",
      "105\n",
      "45\n"
     ]
    }
   ],
   "source": [
    "from sklearn.model_selection import train_test_split\n",
    "\n",
    "x = data[['sepal length', 'sepal width', 'petal length', 'petal width']]\n",
    "y = data['species']\n",
    "    \n",
    "# 테스트 데이터 30%\n",
    "x_train, x_test, y_train, y_test = train_test_split(x, y, test_size = 0.3)\n",
    "print(len(x_train))\n",
    "print(len(x_test))\n",
    "print(len(y_train))\n",
    "print(len(y_test))"
   ]
  },
  {
   "cell_type": "markdown",
   "id": "408306d6",
   "metadata": {},
   "source": [
    "## 데이터 학습 & 예측 정확도 확인\n",
    "70%의 학습 데이터를 랜덤 포레스트를 이용해서 학습 시킨 후,  \n",
    "30%의 예측 데이터를 예측 분류하여 실제 데이터와 비교하여 정확도를 확인한다."
   ]
  },
  {
   "cell_type": "code",
   "execution_count": 3,
   "id": "088f6889",
   "metadata": {},
   "outputs": [
    {
     "name": "stdout",
     "output_type": "stream",
     "text": [
      "[0 2 0 1 0 1 0 2 1 2 1 1 0 1 2 0 1 2 0 1 0 2 2 0 0 2 2 1 2 0 1 2 0 1 1 2 1\n",
      " 1 0 1 2 1 0 2 2]\n",
      "[0, 2, 0, 1, 0, 1, 0, 2, 1, 2, 1, 1, 0, 1, 2, 0, 1, 2, 0, 1, 0, 2, 2, 0, 0, 2, 2, 1, 2, 0, 1, 2, 0, 1, 1, 2, 1, 1, 0, 1, 1, 1, 0, 2, 2]\n",
      "정확도 : 0.9777777777777777\n"
     ]
    }
   ],
   "source": [
    "from sklearn.ensemble import RandomForestClassifier\n",
    "from sklearn import metrics\n",
    "\n",
    "#학습 진행\n",
    "forest = RandomForestClassifier(n_estimators = 100)\n",
    "forest.fit(x_train, y_train)\n",
    "\n",
    "#예측\n",
    "y_pred = forest.predict(x_test)\n",
    "print(y_pred)\n",
    "print(list(y_test))\n",
    "\n",
    "#정확도 확인\n",
    "print('정확도 :', metrics.accuracy_score(y_test, y_pred))"
   ]
  },
  {
   "cell_type": "markdown",
   "id": "af1ac57a",
   "metadata": {},
   "source": [
    "https://myjamong.tistory.com/79\n",
    "https://lovelydiary.tistory.com/297\n",
    "https://m.blog.naver.com/PostView.naver?isHttpsRedirect=true&blogId=doublebee1&logNo=221137823869\n",
    "https://teddylee777.github.io/scikit-learn/train-test-split"
   ]
  },
  {
   "cell_type": "code",
   "execution_count": null,
   "id": "3d7ada28",
   "metadata": {},
   "outputs": [],
   "source": []
  }
 ],
 "metadata": {
  "kernelspec": {
   "display_name": "Python 3",
   "language": "python",
   "name": "python3"
  },
  "language_info": {
   "codemirror_mode": {
    "name": "ipython",
    "version": 3
   },
   "file_extension": ".py",
   "mimetype": "text/x-python",
   "name": "python",
   "nbconvert_exporter": "python",
   "pygments_lexer": "ipython3",
   "version": "3.8.8"
  }
 },
 "nbformat": 4,
 "nbformat_minor": 5
}
